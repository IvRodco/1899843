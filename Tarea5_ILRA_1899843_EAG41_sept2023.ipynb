{
  "cells": [
    {
      "cell_type": "markdown",
      "metadata": {
        "id": "view-in-github",
        "colab_type": "text"
      },
      "source": [
        "<a href=\"https://colab.research.google.com/github/IvRodco/EstadisticaAplicasa_1899843/blob/main/Tarea5_ILRA_1899843_EAG41_sept2023.ipynb\" target=\"_parent\"><img src=\"https://colab.research.google.com/assets/colab-badge.svg\" alt=\"Open In Colab\"/></a>"
      ]
    },
    {
      "cell_type": "markdown",
      "metadata": {
        "id": "uhRVQzkI1yRB"
      },
      "source": [
        "## Estadistica Aplicada\n",
        "\n",
        "Tarea 5\n",
        "\n",
        "Ivanna LIzeth Rodriguez Ambriz\n",
        "\n",
        "1899843\n",
        "\n",
        "Gpo:41"
      ]
    },
    {
      "cell_type": "code",
      "execution_count": 2,
      "metadata": {
        "id": "O4-Q3Mhl1yRE"
      },
      "outputs": [],
      "source": [
        "import numpy as np\n",
        "import pandas as pd\n",
        "import matplotlib.pyplot as plt\n",
        "%matplotlib inline"
      ]
    },
    {
      "cell_type": "code",
      "source": [
        "pip install lifelines"
      ],
      "metadata": {
        "id": "L_tu0-UQ2SvE"
      },
      "execution_count": null,
      "outputs": []
    },
    {
      "cell_type": "code",
      "execution_count": 11,
      "metadata": {
        "id": "1obrtKBi1yRF"
      },
      "outputs": [],
      "source": [
        "# Librerias especializadas\n",
        "from lifelines import KaplanMeierFitter\n",
        "from lifelines.statistics import logrank_test\n",
        "from lifelines import ExponentialFitter, WeibullFitter, LogNormalFitter\n",
        "from lifelines import CoxPHFitter\n",
        "import seaborn as sns"
      ]
    },
    {
      "cell_type": "code",
      "execution_count": 21,
      "metadata": {
        "colab": {
          "base_uri": "https://localhost:8080/",
          "height": 423
        },
        "id": "Ww2p3xzU1yRF",
        "outputId": "f1693162-3062-4ccb-9c19-9cbbd0440a1f"
      },
      "outputs": [
        {
          "output_type": "execute_result",
          "data": {
            "text/plain": [
              "    tiempo  mujer  quebrar\n",
              "0       21      0        1\n",
              "1       16      1        0\n",
              "2       26      1        1\n",
              "3       17      1        0\n",
              "4       29      1        1\n",
              "..     ...    ...      ...\n",
              "95      12      0        1\n",
              "96      22      0        1\n",
              "97      30      0        0\n",
              "98      10      0        0\n",
              "99       8      1        0\n",
              "\n",
              "[100 rows x 3 columns]"
            ],
            "text/html": [
              "\n",
              "  <div id=\"df-8b145c23-1b5b-4053-ac08-c3bf7717c682\" class=\"colab-df-container\">\n",
              "    <div>\n",
              "<style scoped>\n",
              "    .dataframe tbody tr th:only-of-type {\n",
              "        vertical-align: middle;\n",
              "    }\n",
              "\n",
              "    .dataframe tbody tr th {\n",
              "        vertical-align: top;\n",
              "    }\n",
              "\n",
              "    .dataframe thead th {\n",
              "        text-align: right;\n",
              "    }\n",
              "</style>\n",
              "<table border=\"1\" class=\"dataframe\">\n",
              "  <thead>\n",
              "    <tr style=\"text-align: right;\">\n",
              "      <th></th>\n",
              "      <th>tiempo</th>\n",
              "      <th>mujer</th>\n",
              "      <th>quebrar</th>\n",
              "    </tr>\n",
              "  </thead>\n",
              "  <tbody>\n",
              "    <tr>\n",
              "      <th>0</th>\n",
              "      <td>21</td>\n",
              "      <td>0</td>\n",
              "      <td>1</td>\n",
              "    </tr>\n",
              "    <tr>\n",
              "      <th>1</th>\n",
              "      <td>16</td>\n",
              "      <td>1</td>\n",
              "      <td>0</td>\n",
              "    </tr>\n",
              "    <tr>\n",
              "      <th>2</th>\n",
              "      <td>26</td>\n",
              "      <td>1</td>\n",
              "      <td>1</td>\n",
              "    </tr>\n",
              "    <tr>\n",
              "      <th>3</th>\n",
              "      <td>17</td>\n",
              "      <td>1</td>\n",
              "      <td>0</td>\n",
              "    </tr>\n",
              "    <tr>\n",
              "      <th>4</th>\n",
              "      <td>29</td>\n",
              "      <td>1</td>\n",
              "      <td>1</td>\n",
              "    </tr>\n",
              "    <tr>\n",
              "      <th>...</th>\n",
              "      <td>...</td>\n",
              "      <td>...</td>\n",
              "      <td>...</td>\n",
              "    </tr>\n",
              "    <tr>\n",
              "      <th>95</th>\n",
              "      <td>12</td>\n",
              "      <td>0</td>\n",
              "      <td>1</td>\n",
              "    </tr>\n",
              "    <tr>\n",
              "      <th>96</th>\n",
              "      <td>22</td>\n",
              "      <td>0</td>\n",
              "      <td>1</td>\n",
              "    </tr>\n",
              "    <tr>\n",
              "      <th>97</th>\n",
              "      <td>30</td>\n",
              "      <td>0</td>\n",
              "      <td>0</td>\n",
              "    </tr>\n",
              "    <tr>\n",
              "      <th>98</th>\n",
              "      <td>10</td>\n",
              "      <td>0</td>\n",
              "      <td>0</td>\n",
              "    </tr>\n",
              "    <tr>\n",
              "      <th>99</th>\n",
              "      <td>8</td>\n",
              "      <td>1</td>\n",
              "      <td>0</td>\n",
              "    </tr>\n",
              "  </tbody>\n",
              "</table>\n",
              "<p>100 rows × 3 columns</p>\n",
              "</div>\n",
              "    <div class=\"colab-df-buttons\">\n",
              "\n",
              "  <div class=\"colab-df-container\">\n",
              "    <button class=\"colab-df-convert\" onclick=\"convertToInteractive('df-8b145c23-1b5b-4053-ac08-c3bf7717c682')\"\n",
              "            title=\"Convert this dataframe to an interactive table.\"\n",
              "            style=\"display:none;\">\n",
              "\n",
              "  <svg xmlns=\"http://www.w3.org/2000/svg\" height=\"24px\" viewBox=\"0 -960 960 960\">\n",
              "    <path d=\"M120-120v-720h720v720H120Zm60-500h600v-160H180v160Zm220 220h160v-160H400v160Zm0 220h160v-160H400v160ZM180-400h160v-160H180v160Zm440 0h160v-160H620v160ZM180-180h160v-160H180v160Zm440 0h160v-160H620v160Z\"/>\n",
              "  </svg>\n",
              "    </button>\n",
              "\n",
              "  <style>\n",
              "    .colab-df-container {\n",
              "      display:flex;\n",
              "      gap: 12px;\n",
              "    }\n",
              "\n",
              "    .colab-df-convert {\n",
              "      background-color: #E8F0FE;\n",
              "      border: none;\n",
              "      border-radius: 50%;\n",
              "      cursor: pointer;\n",
              "      display: none;\n",
              "      fill: #1967D2;\n",
              "      height: 32px;\n",
              "      padding: 0 0 0 0;\n",
              "      width: 32px;\n",
              "    }\n",
              "\n",
              "    .colab-df-convert:hover {\n",
              "      background-color: #E2EBFA;\n",
              "      box-shadow: 0px 1px 2px rgba(60, 64, 67, 0.3), 0px 1px 3px 1px rgba(60, 64, 67, 0.15);\n",
              "      fill: #174EA6;\n",
              "    }\n",
              "\n",
              "    .colab-df-buttons div {\n",
              "      margin-bottom: 4px;\n",
              "    }\n",
              "\n",
              "    [theme=dark] .colab-df-convert {\n",
              "      background-color: #3B4455;\n",
              "      fill: #D2E3FC;\n",
              "    }\n",
              "\n",
              "    [theme=dark] .colab-df-convert:hover {\n",
              "      background-color: #434B5C;\n",
              "      box-shadow: 0px 1px 3px 1px rgba(0, 0, 0, 0.15);\n",
              "      filter: drop-shadow(0px 1px 2px rgba(0, 0, 0, 0.3));\n",
              "      fill: #FFFFFF;\n",
              "    }\n",
              "  </style>\n",
              "\n",
              "    <script>\n",
              "      const buttonEl =\n",
              "        document.querySelector('#df-8b145c23-1b5b-4053-ac08-c3bf7717c682 button.colab-df-convert');\n",
              "      buttonEl.style.display =\n",
              "        google.colab.kernel.accessAllowed ? 'block' : 'none';\n",
              "\n",
              "      async function convertToInteractive(key) {\n",
              "        const element = document.querySelector('#df-8b145c23-1b5b-4053-ac08-c3bf7717c682');\n",
              "        const dataTable =\n",
              "          await google.colab.kernel.invokeFunction('convertToInteractive',\n",
              "                                                    [key], {});\n",
              "        if (!dataTable) return;\n",
              "\n",
              "        const docLinkHtml = 'Like what you see? Visit the ' +\n",
              "          '<a target=\"_blank\" href=https://colab.research.google.com/notebooks/data_table.ipynb>data table notebook</a>'\n",
              "          + ' to learn more about interactive tables.';\n",
              "        element.innerHTML = '';\n",
              "        dataTable['output_type'] = 'display_data';\n",
              "        await google.colab.output.renderOutput(dataTable, element);\n",
              "        const docLink = document.createElement('div');\n",
              "        docLink.innerHTML = docLinkHtml;\n",
              "        element.appendChild(docLink);\n",
              "      }\n",
              "    </script>\n",
              "  </div>\n",
              "\n",
              "\n",
              "<div id=\"df-ba1e18d5-d9f1-4075-b406-e13f91a65390\">\n",
              "  <button class=\"colab-df-quickchart\" onclick=\"quickchart('df-ba1e18d5-d9f1-4075-b406-e13f91a65390')\"\n",
              "            title=\"Suggest charts.\"\n",
              "            style=\"display:none;\">\n",
              "\n",
              "<svg xmlns=\"http://www.w3.org/2000/svg\" height=\"24px\"viewBox=\"0 0 24 24\"\n",
              "     width=\"24px\">\n",
              "    <g>\n",
              "        <path d=\"M19 3H5c-1.1 0-2 .9-2 2v14c0 1.1.9 2 2 2h14c1.1 0 2-.9 2-2V5c0-1.1-.9-2-2-2zM9 17H7v-7h2v7zm4 0h-2V7h2v10zm4 0h-2v-4h2v4z\"/>\n",
              "    </g>\n",
              "</svg>\n",
              "  </button>\n",
              "\n",
              "<style>\n",
              "  .colab-df-quickchart {\n",
              "      --bg-color: #E8F0FE;\n",
              "      --fill-color: #1967D2;\n",
              "      --hover-bg-color: #E2EBFA;\n",
              "      --hover-fill-color: #174EA6;\n",
              "      --disabled-fill-color: #AAA;\n",
              "      --disabled-bg-color: #DDD;\n",
              "  }\n",
              "\n",
              "  [theme=dark] .colab-df-quickchart {\n",
              "      --bg-color: #3B4455;\n",
              "      --fill-color: #D2E3FC;\n",
              "      --hover-bg-color: #434B5C;\n",
              "      --hover-fill-color: #FFFFFF;\n",
              "      --disabled-bg-color: #3B4455;\n",
              "      --disabled-fill-color: #666;\n",
              "  }\n",
              "\n",
              "  .colab-df-quickchart {\n",
              "    background-color: var(--bg-color);\n",
              "    border: none;\n",
              "    border-radius: 50%;\n",
              "    cursor: pointer;\n",
              "    display: none;\n",
              "    fill: var(--fill-color);\n",
              "    height: 32px;\n",
              "    padding: 0;\n",
              "    width: 32px;\n",
              "  }\n",
              "\n",
              "  .colab-df-quickchart:hover {\n",
              "    background-color: var(--hover-bg-color);\n",
              "    box-shadow: 0 1px 2px rgba(60, 64, 67, 0.3), 0 1px 3px 1px rgba(60, 64, 67, 0.15);\n",
              "    fill: var(--button-hover-fill-color);\n",
              "  }\n",
              "\n",
              "  .colab-df-quickchart-complete:disabled,\n",
              "  .colab-df-quickchart-complete:disabled:hover {\n",
              "    background-color: var(--disabled-bg-color);\n",
              "    fill: var(--disabled-fill-color);\n",
              "    box-shadow: none;\n",
              "  }\n",
              "\n",
              "  .colab-df-spinner {\n",
              "    border: 2px solid var(--fill-color);\n",
              "    border-color: transparent;\n",
              "    border-bottom-color: var(--fill-color);\n",
              "    animation:\n",
              "      spin 1s steps(1) infinite;\n",
              "  }\n",
              "\n",
              "  @keyframes spin {\n",
              "    0% {\n",
              "      border-color: transparent;\n",
              "      border-bottom-color: var(--fill-color);\n",
              "      border-left-color: var(--fill-color);\n",
              "    }\n",
              "    20% {\n",
              "      border-color: transparent;\n",
              "      border-left-color: var(--fill-color);\n",
              "      border-top-color: var(--fill-color);\n",
              "    }\n",
              "    30% {\n",
              "      border-color: transparent;\n",
              "      border-left-color: var(--fill-color);\n",
              "      border-top-color: var(--fill-color);\n",
              "      border-right-color: var(--fill-color);\n",
              "    }\n",
              "    40% {\n",
              "      border-color: transparent;\n",
              "      border-right-color: var(--fill-color);\n",
              "      border-top-color: var(--fill-color);\n",
              "    }\n",
              "    60% {\n",
              "      border-color: transparent;\n",
              "      border-right-color: var(--fill-color);\n",
              "    }\n",
              "    80% {\n",
              "      border-color: transparent;\n",
              "      border-right-color: var(--fill-color);\n",
              "      border-bottom-color: var(--fill-color);\n",
              "    }\n",
              "    90% {\n",
              "      border-color: transparent;\n",
              "      border-bottom-color: var(--fill-color);\n",
              "    }\n",
              "  }\n",
              "</style>\n",
              "\n",
              "  <script>\n",
              "    async function quickchart(key) {\n",
              "      const quickchartButtonEl =\n",
              "        document.querySelector('#' + key + ' button');\n",
              "      quickchartButtonEl.disabled = true;  // To prevent multiple clicks.\n",
              "      quickchartButtonEl.classList.add('colab-df-spinner');\n",
              "      try {\n",
              "        const charts = await google.colab.kernel.invokeFunction(\n",
              "            'suggestCharts', [key], {});\n",
              "      } catch (error) {\n",
              "        console.error('Error during call to suggestCharts:', error);\n",
              "      }\n",
              "      quickchartButtonEl.classList.remove('colab-df-spinner');\n",
              "      quickchartButtonEl.classList.add('colab-df-quickchart-complete');\n",
              "    }\n",
              "    (() => {\n",
              "      let quickchartButtonEl =\n",
              "        document.querySelector('#df-ba1e18d5-d9f1-4075-b406-e13f91a65390 button');\n",
              "      quickchartButtonEl.style.display =\n",
              "        google.colab.kernel.accessAllowed ? 'block' : 'none';\n",
              "    })();\n",
              "  </script>\n",
              "</div>\n",
              "    </div>\n",
              "  </div>\n"
            ]
          },
          "metadata": {},
          "execution_count": 21
        }
      ],
      "source": [
        "## importar los datos\n",
        "data = pd.read_csv('https://raw.githubusercontent.com/jimmyzac/Estadistica-Aplicada-FCFM-UANL/main/bases_datos/quiebra.csv')\n",
        "data\n"
      ]
    },
    {
      "cell_type": "markdown",
      "source": [
        "###Problema 3"
      ],
      "metadata": {
        "id": "24UGbf0i5Kzw"
      }
    },
    {
      "cell_type": "code",
      "execution_count": 22,
      "metadata": {
        "colab": {
          "base_uri": "https://localhost:8080/",
          "height": 286
        },
        "id": "yfAQygLV1yRG",
        "outputId": "63776073-3967-4f0c-d30a-206d91224ba9"
      },
      "outputs": [
        {
          "output_type": "display_data",
          "data": {
            "text/plain": [
              "<lifelines.ExponentialFitter:\"Exponential_estimate\", fitted with 100 total observations, 52 right-censored observations>\n",
              "   number of observations = 100\n",
              "number of events observed = 48\n",
              "           log-likelihood = -212.48\n",
              "               hypothesis = lambda_ != 0\n",
              "\n",
              "---\n",
              "          coef   se(coef)   coef lower 95%   coef upper 95%\n",
              "lambda_  30.77       4.44            22.07            39.48\n",
              "\n",
              "          cmp to    z      p   -log2(p)\n",
              "lambda_     0.00 6.93 <0.005      37.77\n",
              "---\n",
              "AIC = 426.95"
            ],
            "text/html": [
              "<div>\n",
              "<style scoped>\n",
              "    .dataframe tbody tr th:only-of-type {\n",
              "        vertical-align: middle;\n",
              "    }\n",
              "\n",
              "    .dataframe tbody tr th {\n",
              "        vertical-align: top;\n",
              "    }\n",
              "\n",
              "    .dataframe thead th {\n",
              "        text-align: right;\n",
              "    }\n",
              "</style>\n",
              "<table border=\"1\" class=\"dataframe\">\n",
              "  <tbody>\n",
              "    <tr>\n",
              "      <th>model</th>\n",
              "      <td>lifelines.ExponentialFitter</td>\n",
              "    </tr>\n",
              "    <tr>\n",
              "      <th>number of observations</th>\n",
              "      <td>100</td>\n",
              "    </tr>\n",
              "    <tr>\n",
              "      <th>number of events observed</th>\n",
              "      <td>48</td>\n",
              "    </tr>\n",
              "    <tr>\n",
              "      <th>log-likelihood</th>\n",
              "      <td>-212.48</td>\n",
              "    </tr>\n",
              "    <tr>\n",
              "      <th>hypothesis</th>\n",
              "      <td>lambda_ != 0</td>\n",
              "    </tr>\n",
              "  </tbody>\n",
              "</table>\n",
              "</div><table border=\"1\" class=\"dataframe\">\n",
              "  <thead>\n",
              "    <tr style=\"text-align: right;\">\n",
              "      <th style=\"min-width: 12px;\"></th>\n",
              "      <th style=\"min-width: 12px;\">coef</th>\n",
              "      <th style=\"min-width: 12px;\">se(coef)</th>\n",
              "      <th style=\"min-width: 12px;\">coef lower 95%</th>\n",
              "      <th style=\"min-width: 12px;\">coef upper 95%</th>\n",
              "      <th style=\"min-width: 12px;\">cmp to</th>\n",
              "      <th style=\"min-width: 12px;\">z</th>\n",
              "      <th style=\"min-width: 12px;\">p</th>\n",
              "      <th style=\"min-width: 12px;\">-log2(p)</th>\n",
              "    </tr>\n",
              "  </thead>\n",
              "  <tbody>\n",
              "    <tr>\n",
              "      <th>lambda_</th>\n",
              "      <td>30.77</td>\n",
              "      <td>4.44</td>\n",
              "      <td>22.07</td>\n",
              "      <td>39.48</td>\n",
              "      <td>0.00</td>\n",
              "      <td>6.93</td>\n",
              "      <td>&lt;0.005</td>\n",
              "      <td>37.77</td>\n",
              "    </tr>\n",
              "  </tbody>\n",
              "</table><br><div>\n",
              "<style scoped>\n",
              "    .dataframe tbody tr th:only-of-type {\n",
              "        vertical-align: middle;\n",
              "    }\n",
              "\n",
              "    .dataframe tbody tr th {\n",
              "        vertical-align: top;\n",
              "    }\n",
              "\n",
              "    .dataframe thead th {\n",
              "        text-align: right;\n",
              "    }\n",
              "</style>\n",
              "<table border=\"1\" class=\"dataframe\">\n",
              "  <tbody>\n",
              "    <tr>\n",
              "      <th>AIC</th>\n",
              "      <td>426.95</td>\n",
              "    </tr>\n",
              "  </tbody>\n",
              "</table>\n",
              "</div>"
            ],
            "text/latex": "\\begin{tabular}{lrrrrrrrr}\n & coef & se(coef) & coef lower 95% & coef upper 95% & cmp to & z & p & -log2(p) \\\\\nlambda_ & 30.77 & 4.44 & 22.07 & 39.48 & 0.00 & 6.93 & 0.00 & 37.77 \\\\\n\\end{tabular}\n"
          },
          "metadata": {}
        }
      ],
      "source": [
        "#  a) Ajuste Modelo de supervivencia exponencial\n",
        "Mexpon =ExponentialFitter ().fit(data['tiempo'],data['quebrar'])\n",
        "Mexpon.print_summary()\n"
      ]
    },
    {
      "cell_type": "code",
      "source": [
        "#  b) Grafica de la funcion de riesgo\n",
        "Mexpon.plot()\n",
        "plt.title(\"Función de Riesgo Exponencial\")\n",
        "plt.xlabel(\"Tiempo\")\n",
        "plt.ylabel(\"Función de Riesgo\")\n",
        "plt.show()"
      ],
      "metadata": {
        "colab": {
          "base_uri": "https://localhost:8080/",
          "height": 472
        },
        "id": "lcU7R4i-4pD3",
        "outputId": "a4fb1bbd-5673-4815-e2ab-56d103e2faee"
      },
      "execution_count": 23,
      "outputs": [
        {
          "output_type": "display_data",
          "data": {
            "text/plain": [
              "<Figure size 640x480 with 1 Axes>"
            ],
            "image/png": "[encoded data removed]"
          },
          "metadata": {}
        }
      ]
    },
    {
      "cell_type": "code",
      "source": [
        "#  c) Riesgo de que una empresa quiebre según la función exponencial\n",
        "\n",
        "# Sacamos el riesgo a 1 unidad de tiempo\n",
        "riesgo_exponencial = Mexpon.predict(1)\n",
        "print(f\"Riesgo de que una empresa quiebre a 1 unidad de tiempo: {riesgo_exponencial:.2%}\")"
      ],
      "metadata": {
        "colab": {
          "base_uri": "https://localhost:8080/"
        },
        "id": "tE7FpMSn4z8G",
        "outputId": "d6f55035-b843-424a-8e43-c63816822de2"
      },
      "execution_count": 24,
      "outputs": [
        {
          "output_type": "stream",
          "name": "stdout",
          "text": [
            "Riesgo de que una empresa quiebre a 1 unidad de tiempo: 96.80%\n"
          ]
        }
      ]
    },
    {
      "cell_type": "markdown",
      "source": [
        "###Problema 4\n"
      ],
      "metadata": {
        "id": "T6imnJFZ5NdC"
      }
    },
    {
      "cell_type": "code",
      "source": [
        "#  a) Ajuste un modelo Weibull de supervivencia.\n",
        "Mweibull = WeibullFitter().fit(data['tiempo'],data['quebrar'])\n",
        "Mweibull.print_summary()"
      ],
      "metadata": {
        "colab": {
          "base_uri": "https://localhost:8080/",
          "height": 317
        },
        "id": "y6r4IYHl5v-S",
        "outputId": "fe360bb0-f695-4fd0-ae71-4d4f7f29189f"
      },
      "execution_count": 29,
      "outputs": [
        {
          "output_type": "display_data",
          "data": {
            "text/plain": [
              "<lifelines.WeibullFitter:\"Weibull_estimate\", fitted with 100 total observations, 52 right-censored observations>\n",
              "   number of observations = 100\n",
              "number of events observed = 48\n",
              "           log-likelihood = -204.61\n",
              "               hypothesis = lambda_ != 1, rho_ != 1\n",
              "\n",
              "---\n",
              "          coef   se(coef)   coef lower 95%   coef upper 95%\n",
              "lambda_  25.46       2.26            21.03            29.89\n",
              "rho_      1.69       0.20             1.30             2.09\n",
              "\n",
              "          cmp to     z      p   -log2(p)\n",
              "lambda_     1.00 10.83 <0.005      88.36\n",
              "rho_        1.00  3.44 <0.005      10.73\n",
              "---\n",
              "AIC = 413.22"
            ],
            "text/html": [
              "<div>\n",
              "<style scoped>\n",
              "    .dataframe tbody tr th:only-of-type {\n",
              "        vertical-align: middle;\n",
              "    }\n",
              "\n",
              "    .dataframe tbody tr th {\n",
              "        vertical-align: top;\n",
              "    }\n",
              "\n",
              "    .dataframe thead th {\n",
              "        text-align: right;\n",
              "    }\n",
              "</style>\n",
              "<table border=\"1\" class=\"dataframe\">\n",
              "  <tbody>\n",
              "    <tr>\n",
              "      <th>model</th>\n",
              "      <td>lifelines.WeibullFitter</td>\n",
              "    </tr>\n",
              "    <tr>\n",
              "      <th>number of observations</th>\n",
              "      <td>100</td>\n",
              "    </tr>\n",
              "    <tr>\n",
              "      <th>number of events observed</th>\n",
              "      <td>48</td>\n",
              "    </tr>\n",
              "    <tr>\n",
              "      <th>log-likelihood</th>\n",
              "      <td>-204.61</td>\n",
              "    </tr>\n",
              "    <tr>\n",
              "      <th>hypothesis</th>\n",
              "      <td>lambda_ != 1, rho_ != 1</td>\n",
              "    </tr>\n",
              "  </tbody>\n",
              "</table>\n",
              "</div><table border=\"1\" class=\"dataframe\">\n",
              "  <thead>\n",
              "    <tr style=\"text-align: right;\">\n",
              "      <th style=\"min-width: 12px;\"></th>\n",
              "      <th style=\"min-width: 12px;\">coef</th>\n",
              "      <th style=\"min-width: 12px;\">se(coef)</th>\n",
              "      <th style=\"min-width: 12px;\">coef lower 95%</th>\n",
              "      <th style=\"min-width: 12px;\">coef upper 95%</th>\n",
              "      <th style=\"min-width: 12px;\">cmp to</th>\n",
              "      <th style=\"min-width: 12px;\">z</th>\n",
              "      <th style=\"min-width: 12px;\">p</th>\n",
              "      <th style=\"min-width: 12px;\">-log2(p)</th>\n",
              "    </tr>\n",
              "  </thead>\n",
              "  <tbody>\n",
              "    <tr>\n",
              "      <th>lambda_</th>\n",
              "      <td>25.46</td>\n",
              "      <td>2.26</td>\n",
              "      <td>21.03</td>\n",
              "      <td>29.89</td>\n",
              "      <td>1.00</td>\n",
              "      <td>10.83</td>\n",
              "      <td>&lt;0.005</td>\n",
              "      <td>88.36</td>\n",
              "    </tr>\n",
              "    <tr>\n",
              "      <th>rho_</th>\n",
              "      <td>1.69</td>\n",
              "      <td>0.20</td>\n",
              "      <td>1.30</td>\n",
              "      <td>2.09</td>\n",
              "      <td>1.00</td>\n",
              "      <td>3.44</td>\n",
              "      <td>&lt;0.005</td>\n",
              "      <td>10.73</td>\n",
              "    </tr>\n",
              "  </tbody>\n",
              "</table><br><div>\n",
              "<style scoped>\n",
              "    .dataframe tbody tr th:only-of-type {\n",
              "        vertical-align: middle;\n",
              "    }\n",
              "\n",
              "    .dataframe tbody tr th {\n",
              "        vertical-align: top;\n",
              "    }\n",
              "\n",
              "    .dataframe thead th {\n",
              "        text-align: right;\n",
              "    }\n",
              "</style>\n",
              "<table border=\"1\" class=\"dataframe\">\n",
              "  <tbody>\n",
              "    <tr>\n",
              "      <th>AIC</th>\n",
              "      <td>413.22</td>\n",
              "    </tr>\n",
              "  </tbody>\n",
              "</table>\n",
              "</div>"
            ],
            "text/latex": "\\begin{tabular}{lrrrrrrrr}\n & coef & se(coef) & coef lower 95% & coef upper 95% & cmp to & z & p & -log2(p) \\\\\nlambda_ & 25.46 & 2.26 & 21.03 & 29.89 & 1.00 & 10.83 & 0.00 & 88.36 \\\\\nrho_ & 1.69 & 0.20 & 1.30 & 2.09 & 1.00 & 3.44 & 0.00 & 10.73 \\\\\n\\end{tabular}\n"
          },
          "metadata": {}
        }
      ]
    },
    {
      "cell_type": "code",
      "source": [
        "#  b) Grafique la función de riesgo.\n",
        "Mweibull.plot()\n",
        "plt.title(\"Función de Riesgo Weibull\")\n",
        "plt.xlabel(\"Tiempo\")\n",
        "plt.ylabel(\"Función de Riesgo\")\n",
        "plt.show()"
      ],
      "metadata": {
        "colab": {
          "base_uri": "https://localhost:8080/",
          "height": 472
        },
        "id": "Hqs0NIg06Ok0",
        "outputId": "8c0e22b4-988e-4eb7-ec14-756e9e10349a"
      },
      "execution_count": 30,
      "outputs": [
        {
          "output_type": "display_data",
          "data": {
            "text/plain": [
              "<Figure size 640x480 with 1 Axes>"
            ],
            "image/png": "[encoded data removed]"
          },
          "metadata": {}
        }
      ]
    },
    {
      "cell_type": "markdown",
      "source": [
        "c)  La función de riesgo en el modelo Weibull tiene forma creciente. Esto significa que a medida que aumenta el tiempo, la tasa de falla o quiebra de una empresa también aumenta. Es decir, a medida que las empresas envejecen, tienen una mayor probabilidad de quiebra."
      ],
      "metadata": {
        "id": "3pKyPgqS6fX0"
      }
    },
    {
      "cell_type": "markdown",
      "source": [
        "###Problema 5"
      ],
      "metadata": {
        "id": "hW3wSIZY8Tgj"
      }
    },
    {
      "cell_type": "code",
      "source": [
        "#  a) Estimar la función de supervivencia y la mediana de tiempo de supervivencia.\n",
        "\n",
        "km = KaplanMeierFitter().fit(data['tiempo'],data['quebrar'])\n",
        "\n",
        "# Función de supervivencia\n",
        "supervivencia= km.survival_function_\n",
        "print(\"Función de Supervivencia:\")\n",
        "print(supervivencia)\n",
        "\n",
        "# Mediana de tiempo de supervivencia\n",
        "tiempo_supervivencia = km.median_survival_time_\n",
        "print(f\"Mediana de Tiempo de Supervivencia: {tiempo_supervivencia} años\")"
      ],
      "metadata": {
        "colab": {
          "base_uri": "https://localhost:8080/"
        },
        "id": "it-cuKHs6WvB",
        "outputId": "023175b0-ba79-445f-e1d7-dd5bdd1415c3"
      },
      "execution_count": 34,
      "outputs": [
        {
          "output_type": "stream",
          "name": "stdout",
          "text": [
            "Función de Supervivencia:\n",
            "          KM_estimate\n",
            "timeline             \n",
            "0.0          1.000000\n",
            "1.0          0.990000\n",
            "2.0          0.959694\n",
            "3.0          0.928400\n",
            "4.0          0.928400\n",
            "5.0          0.917477\n",
            "7.0          0.873261\n",
            "8.0          0.829046\n",
            "9.0          0.829046\n",
            "10.0         0.791924\n",
            "11.0         0.766378\n",
            "12.0         0.726043\n",
            "14.0         0.726043\n",
            "15.0         0.711225\n",
            "16.0         0.664841\n",
            "17.0         0.664841\n",
            "18.0         0.646373\n",
            "19.0         0.627362\n",
            "20.0         0.607757\n",
            "21.0         0.586800\n",
            "22.0         0.543333\n",
            "23.0         0.475417\n",
            "24.0         0.475417\n",
            "25.0         0.404104\n",
            "26.0         0.378848\n",
            "27.0         0.320563\n",
            "28.0         0.291421\n",
            "29.0         0.259041\n",
            "30.0         0.129521\n",
            "Mediana de Tiempo de Supervivencia: 23.0 años\n"
          ]
        }
      ]
    },
    {
      "cell_type": "code",
      "source": [
        "#  b) Estimar la función de supervivencia por Kaplan-Meier para hombres y mujeres y grafica\n",
        "\n",
        "# Dividir los datos en hombres y mujeres\n",
        "data_hombres = data[data['mujer'] == 0]\n",
        "data_mujeres = data[data['mujer'] == 1]\n",
        "\n",
        "# Ajustar modelos Kaplan-Meier para hombres y mujeres\n",
        "km_hombres = KaplanMeierFitter()\n",
        "km_mujeres = KaplanMeierFitter()\n",
        "\n",
        "km_hombres.fit(data_hombres['tiempo'],data_hombres['quebrar'], label='Hombres')\n",
        "km_mujeres.fit(data_mujeres['tiempo'],data_mujeres['quebrar'], label='Mujeres')\n",
        "\n",
        "# Graficar las funciones de supervivencia\n",
        "km_hombres.plot(ci_show=False)\n",
        "km_mujeres.plot(ci_show=False)\n",
        "\n",
        "plt.title(\"Función de Supervivencia por Género\")\n",
        "plt.xlabel(\"Tiempo\")\n",
        "plt.ylabel(\"Función de Supervivencia\")\n",
        "plt.legend()\n",
        "plt.show()\n"
      ],
      "metadata": {
        "colab": {
          "base_uri": "https://localhost:8080/",
          "height": 472
        },
        "id": "LEFLk1D57WaS",
        "outputId": "b1afe311-f046-4cdd-87ee-b1da1c7188b5"
      },
      "execution_count": 35,
      "outputs": [
        {
          "output_type": "display_data",
          "data": {
            "text/plain": [
              "<Figure size 640x480 with 1 Axes>"
            ],
            "image/png": "[encoded data removed]"
          },
          "metadata": {}
        }
      ]
    },
    {
      "cell_type": "code",
      "source": [
        "# c) Para refutar o confirmar la afirmación de que las empresas fundadas por hombres quiebran más rápido, utilizamos logrank\n",
        "\n",
        "# H0: Las hembresas fundadas por hombres quiebran mas rapido\n",
        "# H1: se refuta la afirmacion anterior\n",
        "\n",
        "# importamos la libreria logrank\n",
        "from lifelines.statistics import logrank_test\n",
        "\n",
        "lg = logrank_test(data_hombres['tiempo'], data_mujeres['tiempo'], data_hombres['quebrar'], data_mujeres['quebrar'])\n",
        "print(\"Estadística de log-rank:\", lg.test_statistic)\n",
        "print(\"Valor p:\", lg.p_value)"
      ],
      "metadata": {
        "colab": {
          "base_uri": "https://localhost:8080/"
        },
        "id": "DucTlkef7yEu",
        "outputId": "b5c36331-af4e-4a45-b1f1-e8818c6402c7"
      },
      "execution_count": 37,
      "outputs": [
        {
          "output_type": "stream",
          "name": "stdout",
          "text": [
            "Estadística de log-rank: 0.2848827074567972\n",
            "Valor p: 0.5935186303825359\n"
          ]
        }
      ]
    },
    {
      "cell_type": "markdown",
      "source": [
        "Entonces como el p valor no es menor a logrank rechazamos H0, por lo que no hay evidencia para decir que las empresas fundadas por hombres quiebran mas rapido"
      ],
      "metadata": {
        "id": "OuJhYS5z9g3o"
      }
    }
  ],
  "metadata": {
    "kernelspec": {
      "display_name": "base",
      "language": "python",
      "name": "python3"
    },
    "language_info": {
      "codemirror_mode": {
        "name": "ipython",
        "version": 3
      },
      "file_extension": ".py",
      "mimetype": "text/x-python",
      "name": "python",
      "nbconvert_exporter": "python",
      "pygments_lexer": "ipython3",
      "version": "3.10.9"
    },
    "orig_nbformat": 4,
    "colab": {
      "provenance": [],
      "include_colab_link": true
    }
  },
  "nbformat": 4,
  "nbformat_minor": 0
}