{
  "cells": [
    {
      "cell_type": "markdown",
      "metadata": {
        "id": "view-in-github",
        "colab_type": "text"
      },
      "source": [
        "<a href=\"https://colab.research.google.com/github/IvRodco/EstadisticaAplicasa_1899843/blob/main/Actividad2_ILRA_1899843_EAG41_ago2023.ipynb\" target=\"_parent\"><img src=\"https://colab.research.google.com/assets/colab-badge.svg\" alt=\"Open In Colab\"/></a>"
      ]
    },
    {
      "cell_type": "markdown",
      "id": "093543d7-16f9-415a-86c1-d1617213edfe",
      "metadata": {
        "id": "093543d7-16f9-415a-86c1-d1617213edfe"
      },
      "source": [
        "# Actividad 2\n",
        "Nombre:   Ivanna Lizeth Rodriguez Ambriz\n",
        "\n",
        "Matrícula:   1899843\n",
        "\n",
        "Grupo:  041"
      ]
    },
    {
      "cell_type": "markdown",
      "id": "aa29e0d3-4818-44b9-b57f-3cfd97b9a2ae",
      "metadata": {
        "id": "aa29e0d3-4818-44b9-b57f-3cfd97b9a2ae"
      },
      "source": [
        "1. Contamos con la edad de las personas de San Andres, un pueblito de la sierra de Nuevo León, que cuenta con 50 habitantes en total. Genera una lista con la edad de los 50 habitantes de San Andres. la lista debe llamarse \"edades_pueblito\""
      ]
    },
    {
      "cell_type": "code",
      "execution_count": 4,
      "id": "878cc4c3-3709-4c73-8e36-5e0a04838dcc",
      "metadata": {
        "colab": {
          "base_uri": "https://localhost:8080/"
        },
        "id": "878cc4c3-3709-4c73-8e36-5e0a04838dcc",
        "outputId": "a29270f3-9c01-4c30-88c0-6ff5b044d314"
      },
      "outputs": [
        {
          "output_type": "execute_result",
          "data": {
            "text/plain": [
              "[23,\n",
              " 80,\n",
              " 99,\n",
              " 66,\n",
              " 87,\n",
              " 31,\n",
              " 61,\n",
              " 21,\n",
              " 54,\n",
              " 76,\n",
              " 78,\n",
              " 17,\n",
              " 14,\n",
              " 26,\n",
              " 100,\n",
              " 34,\n",
              " 1,\n",
              " 70,\n",
              " 5,\n",
              " 31,\n",
              " 51,\n",
              " 39,\n",
              " 47,\n",
              " 81,\n",
              " 69,\n",
              " 45,\n",
              " 40,\n",
              " 8,\n",
              " 44,\n",
              " 60,\n",
              " 77,\n",
              " 93,\n",
              " 22,\n",
              " 91,\n",
              " 4,\n",
              " 37,\n",
              " 87,\n",
              " 34,\n",
              " 98,\n",
              " 29,\n",
              " 7,\n",
              " 63,\n",
              " 11,\n",
              " 91,\n",
              " 86,\n",
              " 20,\n",
              " 33,\n",
              " 90,\n",
              " 72,\n",
              " 61]"
            ]
          },
          "metadata": {},
          "execution_count": 4
        }
      ],
      "source": [
        "# 23, 80, 99, 66, 87, 31, 61, 21, 54, 76, 78, 17, 14, 26, 100, 34, 1, 70, 5,\n",
        "#31, 51, 39, 47, 81, 69, 45, 40, 8, 44, 60, 77, 93, 22, 91, 4, 37, 87, 34, 98,\n",
        "#29, 7, 63, 11, 91, 86, 20, 33, 90, 72, 61\n",
        "\n",
        "#respuesta\n",
        "\n",
        "dades_pueblito=[23, 80, 99, 66, 87, 31, 61, 21, 54, 76, 78, 17, 14, 26, 100, 34, 1, 70, 5,31, 51, 39, 47, 81, 69, 45, 40, 8, 44, 60, 77, 93, 22, 91, 4, 37, 87, 34, 98,29, 7, 63, 11, 91, 86, 20, 33, 90, 72, 61]\n",
        "\n",
        "edades_pueblito\n"
      ]
    },
    {
      "cell_type": "markdown",
      "id": "b4d47a26-4561-48fc-a7e8-df275c26e758",
      "metadata": {
        "id": "b4d47a26-4561-48fc-a7e8-df275c26e758"
      },
      "source": [
        "2. Importa la librería de numpy con su apodo, y luego convierte  la lista edades_pueblito en un arreglo"
      ]
    },
    {
      "cell_type": "code",
      "execution_count": 5,
      "id": "02009718-9950-4324-aca5-a448727ed50b",
      "metadata": {
        "colab": {
          "base_uri": "https://localhost:8080/"
        },
        "id": "02009718-9950-4324-aca5-a448727ed50b",
        "outputId": "ece944e7-fd2a-4877-a9a9-d93a0c01c847"
      },
      "outputs": [
        {
          "output_type": "execute_result",
          "data": {
            "text/plain": [
              "numpy.ndarray"
            ]
          },
          "metadata": {},
          "execution_count": 5
        }
      ],
      "source": [
        "#respuesta\n",
        "\n",
        "import numpy as np\n",
        "\n",
        "edades_pueblito= np.array(edades_pueblito)\n",
        "\n",
        "type(edades_pueblito)"
      ]
    },
    {
      "cell_type": "markdown",
      "id": "7ed73508-1db7-4567-ae2f-81bbab9345f3",
      "metadata": {
        "id": "7ed73508-1db7-4567-ae2f-81bbab9345f3"
      },
      "source": [
        "3. Calcula la media, la varianza, y la desviación estándar de la edad de los habitantes de San Andres, muestra un texto (print) con los cálculos realizados"
      ]
    },
    {
      "cell_type": "code",
      "execution_count": 26,
      "id": "ce1b283c-3f4a-4dbb-9633-099bbf4668c6",
      "metadata": {
        "colab": {
          "base_uri": "https://localhost:8080/"
        },
        "id": "ce1b283c-3f4a-4dbb-9633-099bbf4668c6",
        "outputId": "0c529163-2cb5-45a7-bbd0-92fdb3e86976"
      },
      "outputs": [
        {
          "output_type": "stream",
          "name": "stdout",
          "text": [
            "La media de las edades de los habitantes del pueblito es: 51.28\n",
            "La varianza de las edades de los habitantes del pueblito es: 887.2416000000001\n",
            "La desviacion estandar de las edades de los habitantes del pueblito es: 29.78660101455015\n"
          ]
        }
      ],
      "source": [
        "#respuesta\n",
        "\n",
        "##media\n",
        "media=np.mean(edades_pueblito)\n",
        "\n",
        "##varianza\n",
        "var=np.var(edades_pueblito)\n",
        "\n",
        "##desviacion estandar\n",
        "std=np.std(edades_pueblito)\n",
        "\n",
        "print('La media de las edades de los habitantes del pueblito es:',media)\n",
        "print('La varianza de las edades de los habitantes del pueblito es:',var)\n",
        "print('La desviacion estandar de las edades de los habitantes del pueblito es:',std)\n"
      ]
    },
    {
      "cell_type": "markdown",
      "id": "ca0149e9-ab8e-4708-b17b-27c791392d1a",
      "metadata": {
        "id": "ca0149e9-ab8e-4708-b17b-27c791392d1a"
      },
      "source": [
        "4. Sin utilizar la formula de la media de numpy, es decir, sin utilizar np.mean(), como podriamos  calcular la media utlizando solo las funciones que hemos visto en clase."
      ]
    },
    {
      "cell_type": "code",
      "execution_count": 25,
      "id": "4413f41b-5a50-440c-ac59-743d8f366842",
      "metadata": {
        "colab": {
          "base_uri": "https://localhost:8080/"
        },
        "id": "4413f41b-5a50-440c-ac59-743d8f366842",
        "outputId": "2935d053-fc6e-482b-8a75-5b90c45d8718"
      },
      "outputs": [
        {
          "output_type": "execute_result",
          "data": {
            "text/plain": [
              "51.28"
            ]
          },
          "metadata": {},
          "execution_count": 25
        }
      ],
      "source": [
        "#respuesta\n",
        "\n",
        "suma=np.sum(edades_pueblito)\n",
        "\n",
        "media_sinmean=suma/50\n",
        "\n",
        "media\n"
      ]
    },
    {
      "cell_type": "markdown",
      "id": "60047a79-fe4d-4967-8e71-304edce9b249",
      "metadata": {
        "id": "60047a79-fe4d-4967-8e71-304edce9b249"
      },
      "source": [
        "5. Selecciona una muestra de las edades de las primeras 20 personas del pueblo de San Andres, guardalo en un objeto llamado muestra_pueblito"
      ]
    },
    {
      "cell_type": "code",
      "execution_count": 17,
      "id": "f8dca0bc-4880-4463-a729-67503de9b140",
      "metadata": {
        "colab": {
          "base_uri": "https://localhost:8080/"
        },
        "id": "f8dca0bc-4880-4463-a729-67503de9b140",
        "outputId": "9e2355c6-ca52-4537-d225-c08d72d478ff"
      },
      "outputs": [
        {
          "output_type": "execute_result",
          "data": {
            "text/plain": [
              "array([ 23,  80,  99,  66,  87,  31,  61,  21,  54,  76,  78,  17,  14,\n",
              "        26, 100,  34,   1,  70,   5,  31])"
            ]
          },
          "metadata": {},
          "execution_count": 17
        }
      ],
      "source": [
        "#respuesta\n",
        "\n",
        "muestra_pueblito= edades_pueblito[0:20]\n",
        "\n",
        "muestra_pueblito\n"
      ]
    },
    {
      "cell_type": "markdown",
      "id": "6c2f598f-d727-4437-b060-5d7052544652",
      "metadata": {
        "id": "6c2f598f-d727-4437-b060-5d7052544652"
      },
      "source": [
        "6. Calcula la media, la varianza y la desviación estándar de la muestra de las edades del pueblo de San Andres, muestra un texto (print) con los calculos realizados"
      ]
    },
    {
      "cell_type": "code",
      "execution_count": 28,
      "id": "eceb2269-e3cb-43d4-9206-f2b21f5cd48b",
      "metadata": {
        "colab": {
          "base_uri": "https://localhost:8080/"
        },
        "id": "eceb2269-e3cb-43d4-9206-f2b21f5cd48b",
        "outputId": "d7b19bbb-3fc7-4390-8741-e1be928ab20b"
      },
      "outputs": [
        {
          "output_type": "stream",
          "name": "stdout",
          "text": [
            "La media de la muestra las edades de los habitantes del pueblito es: 48.7\n",
            "La varianza de la muestra las edades de los habitantes del pueblito es: 1017.0631578947367\n",
            "La desviacion estandar de la muestra de las edades de los habitantes del pueblito es: 31.891427655323564\n"
          ]
        }
      ],
      "source": [
        "#respuesta\n",
        "\n",
        "##media\n",
        "media_muestra=np.mean(muestra_pueblito)\n",
        "\n",
        "##varianza\n",
        "var_muestra=np.var(muestra_pueblito,ddof=1)\n",
        "\n",
        "##desviacion estandar\n",
        "std_muestra=np.std(muestra_pueblito,ddof=1)\n",
        "\n",
        "print('La media de la muestra las edades de los habitantes del pueblito es:',media_muestra)\n",
        "print('La varianza de la muestra las edades de los habitantes del pueblito es:',var_muestra)\n",
        "print('La desviacion estandar de la muestra de las edades de los habitantes del pueblito es:',std_muestra)\n",
        "\n"
      ]
    },
    {
      "cell_type": "markdown",
      "id": "e702d284-b04b-4f89-8e01-bb56635c703c",
      "metadata": {
        "id": "e702d284-b04b-4f89-8e01-bb56635c703c"
      },
      "source": [
        "7. Sabemos que en San Andres se dedican a la producción de huevo de gallina. Existen 20 productores de huevo en San Andres, donde en promedio cada uno produce 5.6785 kg de huevo por día. ¿cuál es la producción de huevo en kg por mes en San Andres?\n",
        "\n",
        "Resuelve utilizando np.prod()"
      ]
    },
    {
      "cell_type": "code",
      "execution_count": 44,
      "id": "d7cc2869-27f8-4687-933c-d4975b445f44",
      "metadata": {
        "colab": {
          "base_uri": "https://localhost:8080/"
        },
        "id": "d7cc2869-27f8-4687-933c-d4975b445f44",
        "outputId": "584759a0-fa07-4d59-b0f0-6bc6b15d2f18"
      },
      "outputs": [
        {
          "output_type": "execute_result",
          "data": {
            "text/plain": [
              "3407.1"
            ]
          },
          "metadata": {},
          "execution_count": 44
        }
      ],
      "source": [
        "#respuesta\n",
        "\n",
        "\n",
        "\n",
        "huevo=5.6785\n",
        "personas=20\n",
        "\n",
        "Total_dia=np.prod(huevo*personas)\n",
        "\n",
        "##suponiendoque el mes tiene 30 dias\n",
        "\n",
        "Total_mes=np.prod(Total_dia*30)\n",
        "Total_mes"
      ]
    },
    {
      "cell_type": "markdown",
      "id": "3cdf63ac-abd1-4c6f-a379-b0b22b2a3d34",
      "metadata": {
        "id": "3cdf63ac-abd1-4c6f-a379-b0b22b2a3d34"
      },
      "source": [
        "8. Resuelve el ejercicio 7 sin usar np.prod(). Resuelva  utilizando tres objetos: \"productores\" que contenga el número de productores, \"huevos_promedio_x_dia\" que contenga la producción promedio de kg de huevo al día por productor y \"días del mes\" que contega el número de días  en un mes"
      ]
    },
    {
      "cell_type": "code",
      "execution_count": 47,
      "id": "7e879332-66e1-44e2-9163-3a37b06ac78b",
      "metadata": {
        "colab": {
          "base_uri": "https://localhost:8080/"
        },
        "id": "7e879332-66e1-44e2-9163-3a37b06ac78b",
        "outputId": "d56f2ca8-c003-4de2-eff1-30a0ad3b014f"
      },
      "outputs": [
        {
          "output_type": "execute_result",
          "data": {
            "text/plain": [
              "3407.1"
            ]
          },
          "metadata": {},
          "execution_count": 47
        }
      ],
      "source": [
        "#respuesta\n",
        "\n",
        "huevo=5.6785\n",
        "personas=20\n",
        "\n",
        "dia_tot=huevo*personas\n",
        "mes_tot=dia_tot*30\n",
        "\n",
        "mes_tot"
      ]
    }
  ],
  "metadata": {
    "kernelspec": {
      "display_name": "Python 3 (ipykernel)",
      "language": "python",
      "name": "python3"
    },
    "language_info": {
      "codemirror_mode": {
        "name": "ipython",
        "version": 3
      },
      "file_extension": ".py",
      "mimetype": "text/x-python",
      "name": "python",
      "nbconvert_exporter": "python",
      "pygments_lexer": "ipython3",
      "version": "3.8.12"
    },
    "colab": {
      "provenance": [],
      "include_colab_link": true
    }
  },
  "nbformat": 4,
  "nbformat_minor": 5
}