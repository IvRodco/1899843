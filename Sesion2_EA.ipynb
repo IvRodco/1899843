{
  "nbformat": 4,
  "nbformat_minor": 0,
  "metadata": {
    "colab": {
      "provenance": [],
      "authorship_tag": "ABX9TyMmlAjuFQHiYtTX7WHwJDHI",
      "include_colab_link": true
    },
    "kernelspec": {
      "name": "python3",
      "display_name": "Python 3"
    },
    "language_info": {
      "name": "python"
    }
  },
  "cells": [
    {
      "cell_type": "markdown",
      "metadata": {
        "id": "view-in-github",
        "colab_type": "text"
      },
      "source": [
        "<a href=\"https://colab.research.google.com/github/IvRodco/EstadisticaAplicasa_1899843/blob/main/Sesion2_EA.ipynb\" target=\"_parent\"><img src=\"https://colab.research.google.com/assets/colab-badge.svg\" alt=\"Open In Colab\"/></a>"
      ]
    },
    {
      "cell_type": "markdown",
      "source": [
        "##Estadistica aplicada\n",
        "\n",
        "###Sesion 2, 9 de agosto\n",
        "\n",
        "####Ivanna Lizeth Rodriguez Ambriz 1899843\n",
        "\n",
        "\n",
        "Lista en python es una coleccion de objetos que pueden ser de distnto tipo\n",
        "\n",
        "nombrelista = [objeto1, objeto2, objeto3,etc]\n"
      ],
      "metadata": {
        "id": "UJuV6PY08Ffz"
      }
    },
    {
      "cell_type": "code",
      "source": [
        "alumno1=['Juan','Perez',19]\n",
        "\n",
        "type(alumno1)\n",
        "\n",
        "list\n",
        "alumno1\n"
      ],
      "metadata": {
        "colab": {
          "base_uri": "https://localhost:8080/"
        },
        "id": "pM_VYh-D8gKo",
        "outputId": "e8eb81fa-d0a3-45e3-8534-f534d9fc4566"
      },
      "execution_count": null,
      "outputs": [
        {
          "output_type": "execute_result",
          "data": {
            "text/plain": [
              "['Juan', 'Perez', 19]"
            ]
          },
          "metadata": {},
          "execution_count": 3
        }
      ]
    },
    {
      "cell_type": "code",
      "source": [
        "#se asignan los elementos de la lista\n",
        "Estadistica_G4=['Juan','Raul','Jimena','Alejandra']\n",
        "\n",
        "#se muestra la lista\n",
        "Estadistica_G4"
      ],
      "metadata": {
        "colab": {
          "base_uri": "https://localhost:8080/"
        },
        "id": "HetpBgIL9F_1",
        "outputId": "11fa462b-4e73-4019-badd-e0fd3ed0ab3a"
      },
      "execution_count": null,
      "outputs": [
        {
          "output_type": "execute_result",
          "data": {
            "text/plain": [
              "['Juan', 'Raul', 'Jimena', 'Alejandra']"
            ]
          },
          "metadata": {},
          "execution_count": 4
        }
      ]
    },
    {
      "cell_type": "code",
      "source": [
        "#Para elegir un objeto es especifico de una lista\n",
        "\n",
        "#En este caso eligiremos a Alejandra\n",
        "\n",
        "Estadistica_G4[3]\n",
        "\n",
        "#NOTA: python empieza a contar desde la posicion 0, por lo tanto Alejandra es la posicion 3"
      ],
      "metadata": {
        "colab": {
          "base_uri": "https://localhost:8080/",
          "height": 35
        },
        "id": "JLCCgsJn9T2P",
        "outputId": "032ec00c-ecb4-40c8-ffa0-a88b8a1638fa"
      },
      "execution_count": null,
      "outputs": [
        {
          "output_type": "execute_result",
          "data": {
            "text/plain": [
              "'Alejandra'"
            ],
            "application/vnd.google.colaboratory.intrinsic+json": {
              "type": "string"
            }
          },
          "metadata": {},
          "execution_count": 5
        }
      ]
    },
    {
      "cell_type": "code",
      "source": [
        "#haremos el ejemplo de elegir a Juan de la lista\n",
        "\n",
        "Estadistica_G4[0]"
      ],
      "metadata": {
        "colab": {
          "base_uri": "https://localhost:8080/",
          "height": 35
        },
        "id": "yYEAdli_9u7b",
        "outputId": "6ce410a2-ab37-4c0f-a2b3-d0e27e7bb72f"
      },
      "execution_count": null,
      "outputs": [
        {
          "output_type": "execute_result",
          "data": {
            "text/plain": [
              "'Juan'"
            ],
            "application/vnd.google.colaboratory.intrinsic+json": {
              "type": "string"
            }
          },
          "metadata": {},
          "execution_count": 6
        }
      ]
    },
    {
      "cell_type": "code",
      "source": [
        "#Ahora para seleccionar dos objetos\n",
        "\n",
        "#Si queremos seleccionar a Juan y Alejandra\n",
        "\n",
        "Estadistica_G4[0],Estadistica_G4[3]\n"
      ],
      "metadata": {
        "colab": {
          "base_uri": "https://localhost:8080/"
        },
        "id": "TFf5iMiC-Rqe",
        "outputId": "a92d251d-ba0c-4e05-b9b3-3d94c7d66852"
      },
      "execution_count": null,
      "outputs": [
        {
          "output_type": "execute_result",
          "data": {
            "text/plain": [
              "['Juan', 'Alejandra']"
            ]
          },
          "metadata": {},
          "execution_count": 11
        }
      ]
    },
    {
      "cell_type": "code",
      "source": [
        "#o bien tambien se puede hacer como\n",
        "\n",
        "Estadistica_G4[0::3]"
      ],
      "metadata": {
        "colab": {
          "base_uri": "https://localhost:8080/"
        },
        "id": "SO_rj2vy-8od",
        "outputId": "a69cd79c-d06e-4d0f-dc85-95e409b853e9"
      },
      "execution_count": null,
      "outputs": [
        {
          "output_type": "execute_result",
          "data": {
            "text/plain": [
              "['Juan', 'Alejandra']"
            ]
          },
          "metadata": {},
          "execution_count": 12
        }
      ]
    },
    {
      "cell_type": "code",
      "source": [
        "#Los 2 puntos significa de cero hasta, por lo tanto al usar de la posicion 0 hasta la posicion 3 toma el 0,1 y 2 excluyendo al 3\n",
        "Estadistica_G4[0:3]"
      ],
      "metadata": {
        "colab": {
          "base_uri": "https://localhost:8080/"
        },
        "id": "lyM6FIX0_HG3",
        "outputId": "f311091b-fb98-4a7b-bbff-e29d62f6d5de"
      },
      "execution_count": null,
      "outputs": [
        {
          "output_type": "execute_result",
          "data": {
            "text/plain": [
              "['Juan', 'Raul', 'Jimena']"
            ]
          },
          "metadata": {},
          "execution_count": 15
        }
      ]
    },
    {
      "cell_type": "code",
      "source": [
        "#tambien puede tomar la posicion contando al reves, pero ahora sin contar el cero\n",
        "\n",
        "#entonces si queremos a Alejandra podemos ponerlo como\n",
        "\n",
        "Estadistica_G4[-1]"
      ],
      "metadata": {
        "colab": {
          "base_uri": "https://localhost:8080/",
          "height": 35
        },
        "id": "X3FzmqWK_h05",
        "outputId": "a923f9f8-3b58-4bc9-c072-6f27c62b1bfd"
      },
      "execution_count": null,
      "outputs": [
        {
          "output_type": "execute_result",
          "data": {
            "text/plain": [
              "'Alejandra'"
            ],
            "application/vnd.google.colaboratory.intrinsic+json": {
              "type": "string"
            }
          },
          "metadata": {},
          "execution_count": 16
        }
      ]
    },
    {
      "cell_type": "code",
      "source": [
        "#Para eliminar un elemento de la lista\n",
        "\n",
        "#en este caso queremos quitar a Jimena\n",
        "\n",
        "Estadistica_G4.remove('Jimena')\n",
        "\n",
        "#revsamos que ya no se encuentre Jimena en la lista\n",
        "\n",
        "Estadistica_G4\n"
      ],
      "metadata": {
        "colab": {
          "base_uri": "https://localhost:8080/"
        },
        "id": "lSpozlty_x2B",
        "outputId": "4d1c4040-9955-409a-ed32-73c179e17a2c"
      },
      "execution_count": null,
      "outputs": [
        {
          "output_type": "execute_result",
          "data": {
            "text/plain": [
              "['Juan', 'Alejandra', 'Raul']"
            ]
          },
          "metadata": {},
          "execution_count": 49
        }
      ]
    },
    {
      "cell_type": "code",
      "source": [
        "#para agregar un nuevo elemento a la lista\n",
        "\n",
        "Estadistica_G4.append('Jaime')\n",
        "\n",
        "#Verificamos que se agrego Jaime\n",
        "Estadistica_G4"
      ],
      "metadata": {
        "colab": {
          "base_uri": "https://localhost:8080/"
        },
        "id": "EzwmsO8UAYl2",
        "outputId": "35af110a-21bc-477d-ef8f-63f13a60d9af"
      },
      "execution_count": null,
      "outputs": [
        {
          "output_type": "execute_result",
          "data": {
            "text/plain": [
              "['Juan', 'Alejandra', 'Raul', 'Jaime']"
            ]
          },
          "metadata": {},
          "execution_count": 50
        }
      ]
    },
    {
      "cell_type": "code",
      "source": [
        "#realizamos una lista donde estoy mis amigos y yo\n",
        "\n",
        "#en la cual me voy a elegir\n",
        "\n",
        "amigosbff=['Luis','ivanna','Marcelo','Renata']\n",
        "\n",
        "#vemos que contiene la lista\n",
        "amigosbff"
      ],
      "metadata": {
        "colab": {
          "base_uri": "https://localhost:8080/"
        },
        "id": "ydO2zZ3bAwJO",
        "outputId": "e5038f93-47d5-4ff0-9d8a-3b7483480bf0"
      },
      "execution_count": null,
      "outputs": [
        {
          "output_type": "execute_result",
          "data": {
            "text/plain": [
              "['Luis', 'ivanna', 'Marcelo', 'Renata']"
            ]
          },
          "metadata": {},
          "execution_count": 31
        }
      ]
    },
    {
      "cell_type": "code",
      "source": [
        "#asigno quien soy yo\n",
        "\n",
        "yo = amigosbff[1]\n",
        "\n",
        "#reviso que realmente sea yo la de la posicion 2\n",
        "yo"
      ],
      "metadata": {
        "colab": {
          "base_uri": "https://localhost:8080/",
          "height": 35
        },
        "id": "19FEDDYmA-VQ",
        "outputId": "d7a74891-2c00-4af8-f10b-2325fddb3404"
      },
      "execution_count": null,
      "outputs": [
        {
          "output_type": "execute_result",
          "data": {
            "text/plain": [
              "'ivanna'"
            ],
            "application/vnd.google.colaboratory.intrinsic+json": {
              "type": "string"
            }
          },
          "metadata": {},
          "execution_count": 33
        }
      ]
    },
    {
      "cell_type": "code",
      "source": [
        "#creo una lista que tenga nombre,carrera,semestre y promedio\n",
        "\n",
        "yo_enFCFM =['Ivanna','LA',7,80]\n",
        "\n",
        "#muestro la lista de mis datos\n",
        "yo_enFCFM"
      ],
      "metadata": {
        "colab": {
          "base_uri": "https://localhost:8080/"
        },
        "id": "nq1_z5HLBKAE",
        "outputId": "77ceeccb-de35-49c9-edc3-a63324743bf5"
      },
      "execution_count": null,
      "outputs": [
        {
          "output_type": "execute_result",
          "data": {
            "text/plain": [
              "['Ivanna', 'LA', 7, 80]"
            ]
          },
          "metadata": {},
          "execution_count": 34
        }
      ]
    },
    {
      "cell_type": "code",
      "source": [
        "#asigno una variable a cada dato en la lista\n",
        "\n",
        "mi_promedio =yo_enFCFM[3]\n",
        "mi_carrera =yo_enFCFM[1]\n",
        "\n",
        "\n",
        "mi_promedio,mi_carrera"
      ],
      "metadata": {
        "colab": {
          "base_uri": "https://localhost:8080/"
        },
        "id": "6ofkcLOuBfr9",
        "outputId": "3aa257ab-52e7-440d-b881-8c15b8d5115f"
      },
      "execution_count": null,
      "outputs": [
        {
          "output_type": "execute_result",
          "data": {
            "text/plain": [
              "(80, 'LA')"
            ]
          },
          "metadata": {},
          "execution_count": 35
        }
      ]
    },
    {
      "cell_type": "code",
      "source": [],
      "metadata": {
        "id": "-LAx81IgBfuW"
      },
      "execution_count": null,
      "outputs": []
    },
    {
      "cell_type": "markdown",
      "source": [
        "1-Instalar la libreria(una sola vez)\n",
        "2-Decirle a python que use la libreria\n",
        "\n",
        "Ejemplo:\n",
        "Instalar la libreria de yahoofinance, la cual nos permite ver lo de yahoo Finance"
      ],
      "metadata": {
        "id": "ylUCA0DkCu70"
      }
    },
    {
      "cell_type": "code",
      "source": [
        "pip install yfinance"
      ],
      "metadata": {
        "colab": {
          "base_uri": "https://localhost:8080/"
        },
        "id": "Wcn5Z6q3Dt-D",
        "outputId": "61263f51-04df-4751-9bdf-7df00d5e36ed"
      },
      "execution_count": null,
      "outputs": [
        {
          "output_type": "stream",
          "name": "stdout",
          "text": [
            "Requirement already satisfied: yfinance in /usr/local/lib/python3.10/dist-packages (0.2.27)\n",
            "Requirement already satisfied: pandas>=1.3.0 in /usr/local/lib/python3.10/dist-packages (from yfinance) (1.5.3)\n",
            "Requirement already satisfied: numpy>=1.16.5 in /usr/local/lib/python3.10/dist-packages (from yfinance) (1.23.5)\n",
            "Requirement already satisfied: requests>=2.31 in /usr/local/lib/python3.10/dist-packages (from yfinance) (2.31.0)\n",
            "Requirement already satisfied: multitasking>=0.0.7 in /usr/local/lib/python3.10/dist-packages (from yfinance) (0.0.11)\n",
            "Requirement already satisfied: lxml>=4.9.1 in /usr/local/lib/python3.10/dist-packages (from yfinance) (4.9.3)\n",
            "Requirement already satisfied: appdirs>=1.4.4 in /usr/local/lib/python3.10/dist-packages (from yfinance) (1.4.4)\n",
            "Requirement already satisfied: pytz>=2022.5 in /usr/local/lib/python3.10/dist-packages (from yfinance) (2022.7.1)\n",
            "Requirement already satisfied: frozendict>=2.3.4 in /usr/local/lib/python3.10/dist-packages (from yfinance) (2.3.8)\n",
            "Requirement already satisfied: beautifulsoup4>=4.11.1 in /usr/local/lib/python3.10/dist-packages (from yfinance) (4.11.2)\n",
            "Requirement already satisfied: html5lib>=1.1 in /usr/local/lib/python3.10/dist-packages (from yfinance) (1.1)\n",
            "Requirement already satisfied: soupsieve>1.2 in /usr/local/lib/python3.10/dist-packages (from beautifulsoup4>=4.11.1->yfinance) (2.4.1)\n",
            "Requirement already satisfied: six>=1.9 in /usr/local/lib/python3.10/dist-packages (from html5lib>=1.1->yfinance) (1.16.0)\n",
            "Requirement already satisfied: webencodings in /usr/local/lib/python3.10/dist-packages (from html5lib>=1.1->yfinance) (0.5.1)\n",
            "Requirement already satisfied: python-dateutil>=2.8.1 in /usr/local/lib/python3.10/dist-packages (from pandas>=1.3.0->yfinance) (2.8.2)\n",
            "Requirement already satisfied: charset-normalizer<4,>=2 in /usr/local/lib/python3.10/dist-packages (from requests>=2.31->yfinance) (3.2.0)\n",
            "Requirement already satisfied: idna<4,>=2.5 in /usr/local/lib/python3.10/dist-packages (from requests>=2.31->yfinance) (3.4)\n",
            "Requirement already satisfied: urllib3<3,>=1.21.1 in /usr/local/lib/python3.10/dist-packages (from requests>=2.31->yfinance) (1.26.16)\n",
            "Requirement already satisfied: certifi>=2017.4.17 in /usr/local/lib/python3.10/dist-packages (from requests>=2.31->yfinance) (2023.7.22)\n"
          ]
        }
      ]
    },
    {
      "cell_type": "code",
      "source": [
        "import yfinance"
      ],
      "metadata": {
        "id": "I6ZCxRviDmmj"
      },
      "execution_count": null,
      "outputs": []
    },
    {
      "cell_type": "code",
      "source": [
        "yfinance.download('WALMEX.MX')"
      ],
      "metadata": {
        "colab": {
          "base_uri": "https://localhost:8080/",
          "height": 472
        },
        "id": "e4B0T-NjD3E_",
        "outputId": "73778472-de3e-4bde-b85b-7b635849dbe3"
      },
      "execution_count": null,
      "outputs": [
        {
          "output_type": "stream",
          "name": "stdout",
          "text": [
            "\r[*********************100%***********************]  1 of 1 completed\n"
          ]
        },
        {
          "output_type": "execute_result",
          "data": {
            "text/plain": [
              "                 Open       High        Low      Close  Adj Close    Volume\n",
              "Date                                                                       \n",
              "2003-01-01   5.724499   5.946570   5.724499   5.879949   4.356911         0\n",
              "2003-01-02   5.724499   5.946570   5.724499   5.879949   4.356911   8334330\n",
              "2003-01-03   5.872546   5.909558   5.850339   5.872546   4.351426  18475096\n",
              "2003-01-06   5.872546   6.116825   5.872546   6.104487   4.523289  16180223\n",
              "2003-01-07   6.104487   6.104487   5.951505   5.963842   4.419074  15261074\n",
              "...               ...        ...        ...        ...        ...       ...\n",
              "2023-08-03  69.309998  69.349998  67.349998  67.410004  67.410004  25053073\n",
              "2023-08-04  67.400002  69.099998  67.370003  69.070000  69.070000  11936860\n",
              "2023-08-07  68.900002  69.589996  68.099998  68.300003  68.300003  15582252\n",
              "2023-08-08  68.309998  68.639999  67.400002  67.809998  67.809998  18350539\n",
              "2023-08-09  67.879997  68.750000  67.879997  68.260002  68.260002   8167945\n",
              "\n",
              "[5213 rows x 6 columns]"
            ],
            "text/html": [
              "\n",
              "\n",
              "  <div id=\"df-5ead06d3-2176-45ab-aa8d-ceec16c25b47\">\n",
              "    <div class=\"colab-df-container\">\n",
              "      <div>\n",
              "<style scoped>\n",
              "    .dataframe tbody tr th:only-of-type {\n",
              "        vertical-align: middle;\n",
              "    }\n",
              "\n",
              "    .dataframe tbody tr th {\n",
              "        vertical-align: top;\n",
              "    }\n",
              "\n",
              "    .dataframe thead th {\n",
              "        text-align: right;\n",
              "    }\n",
              "</style>\n",
              "<table border=\"1\" class=\"dataframe\">\n",
              "  <thead>\n",
              "    <tr style=\"text-align: right;\">\n",
              "      <th></th>\n",
              "      <th>Open</th>\n",
              "      <th>High</th>\n",
              "      <th>Low</th>\n",
              "      <th>Close</th>\n",
              "      <th>Adj Close</th>\n",
              "      <th>Volume</th>\n",
              "    </tr>\n",
              "    <tr>\n",
              "      <th>Date</th>\n",
              "      <th></th>\n",
              "      <th></th>\n",
              "      <th></th>\n",
              "      <th></th>\n",
              "      <th></th>\n",
              "      <th></th>\n",
              "    </tr>\n",
              "  </thead>\n",
              "  <tbody>\n",
              "    <tr>\n",
              "      <th>2003-01-01</th>\n",
              "      <td>5.724499</td>\n",
              "      <td>5.946570</td>\n",
              "      <td>5.724499</td>\n",
              "      <td>5.879949</td>\n",
              "      <td>4.356911</td>\n",
              "      <td>0</td>\n",
              "    </tr>\n",
              "    <tr>\n",
              "      <th>2003-01-02</th>\n",
              "      <td>5.724499</td>\n",
              "      <td>5.946570</td>\n",
              "      <td>5.724499</td>\n",
              "      <td>5.879949</td>\n",
              "      <td>4.356911</td>\n",
              "      <td>8334330</td>\n",
              "    </tr>\n",
              "    <tr>\n",
              "      <th>2003-01-03</th>\n",
              "      <td>5.872546</td>\n",
              "      <td>5.909558</td>\n",
              "      <td>5.850339</td>\n",
              "      <td>5.872546</td>\n",
              "      <td>4.351426</td>\n",
              "      <td>18475096</td>\n",
              "    </tr>\n",
              "    <tr>\n",
              "      <th>2003-01-06</th>\n",
              "      <td>5.872546</td>\n",
              "      <td>6.116825</td>\n",
              "      <td>5.872546</td>\n",
              "      <td>6.104487</td>\n",
              "      <td>4.523289</td>\n",
              "      <td>16180223</td>\n",
              "    </tr>\n",
              "    <tr>\n",
              "      <th>2003-01-07</th>\n",
              "      <td>6.104487</td>\n",
              "      <td>6.104487</td>\n",
              "      <td>5.951505</td>\n",
              "      <td>5.963842</td>\n",
              "      <td>4.419074</td>\n",
              "      <td>15261074</td>\n",
              "    </tr>\n",
              "    <tr>\n",
              "      <th>...</th>\n",
              "      <td>...</td>\n",
              "      <td>...</td>\n",
              "      <td>...</td>\n",
              "      <td>...</td>\n",
              "      <td>...</td>\n",
              "      <td>...</td>\n",
              "    </tr>\n",
              "    <tr>\n",
              "      <th>2023-08-03</th>\n",
              "      <td>69.309998</td>\n",
              "      <td>69.349998</td>\n",
              "      <td>67.349998</td>\n",
              "      <td>67.410004</td>\n",
              "      <td>67.410004</td>\n",
              "      <td>25053073</td>\n",
              "    </tr>\n",
              "    <tr>\n",
              "      <th>2023-08-04</th>\n",
              "      <td>67.400002</td>\n",
              "      <td>69.099998</td>\n",
              "      <td>67.370003</td>\n",
              "      <td>69.070000</td>\n",
              "      <td>69.070000</td>\n",
              "      <td>11936860</td>\n",
              "    </tr>\n",
              "    <tr>\n",
              "      <th>2023-08-07</th>\n",
              "      <td>68.900002</td>\n",
              "      <td>69.589996</td>\n",
              "      <td>68.099998</td>\n",
              "      <td>68.300003</td>\n",
              "      <td>68.300003</td>\n",
              "      <td>15582252</td>\n",
              "    </tr>\n",
              "    <tr>\n",
              "      <th>2023-08-08</th>\n",
              "      <td>68.309998</td>\n",
              "      <td>68.639999</td>\n",
              "      <td>67.400002</td>\n",
              "      <td>67.809998</td>\n",
              "      <td>67.809998</td>\n",
              "      <td>18350539</td>\n",
              "    </tr>\n",
              "    <tr>\n",
              "      <th>2023-08-09</th>\n",
              "      <td>67.879997</td>\n",
              "      <td>68.750000</td>\n",
              "      <td>67.879997</td>\n",
              "      <td>68.260002</td>\n",
              "      <td>68.260002</td>\n",
              "      <td>8167945</td>\n",
              "    </tr>\n",
              "  </tbody>\n",
              "</table>\n",
              "<p>5213 rows × 6 columns</p>\n",
              "</div>\n",
              "      <button class=\"colab-df-convert\" onclick=\"convertToInteractive('df-5ead06d3-2176-45ab-aa8d-ceec16c25b47')\"\n",
              "              title=\"Convert this dataframe to an interactive table.\"\n",
              "              style=\"display:none;\">\n",
              "\n",
              "  <svg xmlns=\"http://www.w3.org/2000/svg\" height=\"24px\"viewBox=\"0 0 24 24\"\n",
              "       width=\"24px\">\n",
              "    <path d=\"M0 0h24v24H0V0z\" fill=\"none\"/>\n",
              "    <path d=\"M18.56 5.44l.94 2.06.94-2.06 2.06-.94-2.06-.94-.94-2.06-.94 2.06-2.06.94zm-11 1L8.5 8.5l.94-2.06 2.06-.94-2.06-.94L8.5 2.5l-.94 2.06-2.06.94zm10 10l.94 2.06.94-2.06 2.06-.94-2.06-.94-.94-2.06-.94 2.06-2.06.94z\"/><path d=\"M17.41 7.96l-1.37-1.37c-.4-.4-.92-.59-1.43-.59-.52 0-1.04.2-1.43.59L10.3 9.45l-7.72 7.72c-.78.78-.78 2.05 0 2.83L4 21.41c.39.39.9.59 1.41.59.51 0 1.02-.2 1.41-.59l7.78-7.78 2.81-2.81c.8-.78.8-2.07 0-2.86zM5.41 20L4 18.59l7.72-7.72 1.47 1.35L5.41 20z\"/>\n",
              "  </svg>\n",
              "      </button>\n",
              "\n",
              "\n",
              "\n",
              "    <div id=\"df-c3d90409-c8a1-400e-9141-614b99d00bfa\">\n",
              "      <button class=\"colab-df-quickchart\" onclick=\"quickchart('df-c3d90409-c8a1-400e-9141-614b99d00bfa')\"\n",
              "              title=\"Suggest charts.\"\n",
              "              style=\"display:none;\">\n",
              "\n",
              "<svg xmlns=\"http://www.w3.org/2000/svg\" height=\"24px\"viewBox=\"0 0 24 24\"\n",
              "     width=\"24px\">\n",
              "    <g>\n",
              "        <path d=\"M19 3H5c-1.1 0-2 .9-2 2v14c0 1.1.9 2 2 2h14c1.1 0 2-.9 2-2V5c0-1.1-.9-2-2-2zM9 17H7v-7h2v7zm4 0h-2V7h2v10zm4 0h-2v-4h2v4z\"/>\n",
              "    </g>\n",
              "</svg>\n",
              "      </button>\n",
              "    </div>\n",
              "\n",
              "<style>\n",
              "  .colab-df-quickchart {\n",
              "    background-color: #E8F0FE;\n",
              "    border: none;\n",
              "    border-radius: 50%;\n",
              "    cursor: pointer;\n",
              "    display: none;\n",
              "    fill: #1967D2;\n",
              "    height: 32px;\n",
              "    padding: 0 0 0 0;\n",
              "    width: 32px;\n",
              "  }\n",
              "\n",
              "  .colab-df-quickchart:hover {\n",
              "    background-color: #E2EBFA;\n",
              "    box-shadow: 0px 1px 2px rgba(60, 64, 67, 0.3), 0px 1px 3px 1px rgba(60, 64, 67, 0.15);\n",
              "    fill: #174EA6;\n",
              "  }\n",
              "\n",
              "  [theme=dark] .colab-df-quickchart {\n",
              "    background-color: #3B4455;\n",
              "    fill: #D2E3FC;\n",
              "  }\n",
              "\n",
              "  [theme=dark] .colab-df-quickchart:hover {\n",
              "    background-color: #434B5C;\n",
              "    box-shadow: 0px 1px 3px 1px rgba(0, 0, 0, 0.15);\n",
              "    filter: drop-shadow(0px 1px 2px rgba(0, 0, 0, 0.3));\n",
              "    fill: #FFFFFF;\n",
              "  }\n",
              "</style>\n",
              "\n",
              "    <script>\n",
              "      async function quickchart(key) {\n",
              "        const containerElement = document.querySelector('#' + key);\n",
              "        const charts = await google.colab.kernel.invokeFunction(\n",
              "            'suggestCharts', [key], {});\n",
              "      }\n",
              "    </script>\n",
              "\n",
              "      <script>\n",
              "\n",
              "function displayQuickchartButton(domScope) {\n",
              "  let quickchartButtonEl =\n",
              "    domScope.querySelector('#df-c3d90409-c8a1-400e-9141-614b99d00bfa button.colab-df-quickchart');\n",
              "  quickchartButtonEl.style.display =\n",
              "    google.colab.kernel.accessAllowed ? 'block' : 'none';\n",
              "}\n",
              "\n",
              "        displayQuickchartButton(document);\n",
              "      </script>\n",
              "      <style>\n",
              "    .colab-df-container {\n",
              "      display:flex;\n",
              "      flex-wrap:wrap;\n",
              "      gap: 12px;\n",
              "    }\n",
              "\n",
              "    .colab-df-convert {\n",
              "      background-color: #E8F0FE;\n",
              "      border: none;\n",
              "      border-radius: 50%;\n",
              "      cursor: pointer;\n",
              "      display: none;\n",
              "      fill: #1967D2;\n",
              "      height: 32px;\n",
              "      padding: 0 0 0 0;\n",
              "      width: 32px;\n",
              "    }\n",
              "\n",
              "    .colab-df-convert:hover {\n",
              "      background-color: #E2EBFA;\n",
              "      box-shadow: 0px 1px 2px rgba(60, 64, 67, 0.3), 0px 1px 3px 1px rgba(60, 64, 67, 0.15);\n",
              "      fill: #174EA6;\n",
              "    }\n",
              "\n",
              "    [theme=dark] .colab-df-convert {\n",
              "      background-color: #3B4455;\n",
              "      fill: #D2E3FC;\n",
              "    }\n",
              "\n",
              "    [theme=dark] .colab-df-convert:hover {\n",
              "      background-color: #434B5C;\n",
              "      box-shadow: 0px 1px 3px 1px rgba(0, 0, 0, 0.15);\n",
              "      filter: drop-shadow(0px 1px 2px rgba(0, 0, 0, 0.3));\n",
              "      fill: #FFFFFF;\n",
              "    }\n",
              "  </style>\n",
              "\n",
              "      <script>\n",
              "        const buttonEl =\n",
              "          document.querySelector('#df-5ead06d3-2176-45ab-aa8d-ceec16c25b47 button.colab-df-convert');\n",
              "        buttonEl.style.display =\n",
              "          google.colab.kernel.accessAllowed ? 'block' : 'none';\n",
              "\n",
              "        async function convertToInteractive(key) {\n",
              "          const element = document.querySelector('#df-5ead06d3-2176-45ab-aa8d-ceec16c25b47');\n",
              "          const dataTable =\n",
              "            await google.colab.kernel.invokeFunction('convertToInteractive',\n",
              "                                                     [key], {});\n",
              "          if (!dataTable) return;\n",
              "\n",
              "          const docLinkHtml = 'Like what you see? Visit the ' +\n",
              "            '<a target=\"_blank\" href=https://colab.research.google.com/notebooks/data_table.ipynb>data table notebook</a>'\n",
              "            + ' to learn more about interactive tables.';\n",
              "          element.innerHTML = '';\n",
              "          dataTable['output_type'] = 'display_data';\n",
              "          await google.colab.output.renderOutput(dataTable, element);\n",
              "          const docLink = document.createElement('div');\n",
              "          docLink.innerHTML = docLinkHtml;\n",
              "          element.appendChild(docLink);\n",
              "        }\n",
              "      </script>\n",
              "    </div>\n",
              "  </div>\n"
            ]
          },
          "metadata": {},
          "execution_count": 54
        }
      ]
    }
  ]
}