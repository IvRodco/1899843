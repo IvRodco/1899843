{
  "cells": [
    {
      "cell_type": "markdown",
      "metadata": {
        "id": "view-in-github",
        "colab_type": "text"
      },
      "source": [
        "<a href=\"https://colab.research.google.com/github/IvRodco/EstadisticaAplicasa_1899843/blob/main/RepasoInferencia.ipynb\" target=\"_parent\"><img src=\"https://colab.research.google.com/assets/colab-badge.svg\" alt=\"Open In Colab\"/></a>"
      ]
    },
    {
      "cell_type": "markdown",
      "id": "3f15b084-11f7-4d27-a252-2a87a097a703",
      "metadata": {
        "id": "3f15b084-11f7-4d27-a252-2a87a097a703"
      },
      "source": [
        "## Intervalos de Confianza"
      ]
    },
    {
      "cell_type": "markdown",
      "id": "7f9f491b-bcee-48ea-a50f-c72b984eccfe",
      "metadata": {
        "id": "7f9f491b-bcee-48ea-a50f-c72b984eccfe"
      },
      "source": [
        "**Límites del intervalo**: valores que delimitan el intervalo; se tiene *límite inferior* y *límite superior*, generalmente se expresa como [límite inferior, límite superior], donde [ ] indica que los límites estan incluidos en el intervalo\n",
        "\n",
        "**Amplitud del intervalo** es el tamaño del intervalo y se define como: límite superior - límite inferior\n",
        "\n",
        "**Nivel de confianza** representa el grado de certeza que se desea tener al construir un intervalo o una prueba de hipótesis. Este número se expresa en porcentaje, los niveles de confianza mas usados son 90%, 95% y 99%. Generalmente cuanto mayor sea el nivel de confianza deseado el intervalo se vuelve mas grande.\n",
        "\n",
        "**Nivel de significancia** Representa la probabilidad de que el parámetro poblacional no se encuentre en el intervalo de confianza. Se suele representar con la legra griega alfa $\\alpha$\\\n",
        "$\\alpha=1-$*Nivel de Confianza*"
      ]
    },
    {
      "cell_type": "markdown",
      "id": "49da884a-53d3-452e-bb57-0d36939c8617",
      "metadata": {
        "id": "49da884a-53d3-452e-bb57-0d36939c8617"
      },
      "source": [
        "![image.png](attachment:3613a0c7-ecd7-45c3-8f25-47a580898147.png)\n",
        "\n"
      ]
    },
    {
      "cell_type": "code",
      "execution_count": 3,
      "id": "c8b8f122-e696-44d3-a64b-6eda60c22683",
      "metadata": {
        "id": "c8b8f122-e696-44d3-a64b-6eda60c22683"
      },
      "outputs": [],
      "source": [
        "#importamos librerias\n",
        "##cajon\n",
        "import numpy as np\n",
        "import pandas as pd\n",
        "import matplotlib.pyplot as plt\n",
        "%matplotlib inline\n",
        "\n",
        "##especializadas\n",
        "from scipy.stats import norm\n"
      ]
    },
    {
      "cell_type": "markdown",
      "id": "c5b40788-3c11-4b5c-8b91-36701c63e37d",
      "metadata": {
        "id": "c5b40788-3c11-4b5c-8b91-36701c63e37d"
      },
      "source": [
        "**Ejercicio**\\\n",
        "Si los retornos de una determinada acción\n",
        "se distribuyen normalmente (son N-iid). Se conoce la desviación estándar poblacional, la cual es igual a $\\sigma=0.02$. Si se tiene una muestra aleatoria de 50 retornos del último año y se calcula la media muestral, que es igual a $\\bar{x}=0.06$. Basandose en esta información, se quiere construir un intervalo de confianza del 95% para la media poblacional."
      ]
    },
    {
      "cell_type": "code",
      "execution_count": 24,
      "id": "6a0b2afc-b375-4bff-8f6f-70c69d2349f7",
      "metadata": {
        "id": "6a0b2afc-b375-4bff-8f6f-70c69d2349f7"
      },
      "outputs": [],
      "source": [
        "##definimos lo que sabemos\n",
        "n=50\n",
        "media_muest=0.06\n",
        "desv_est=0.02\n",
        "\n",
        "sqrt_n= 50**(1/2)\n",
        "\n",
        "var=desv_est/sqrt_n"
      ]
    },
    {
      "cell_type": "markdown",
      "id": "c78e506b-7ae8-4ccb-b43e-9feabd5da2ed",
      "metadata": {
        "id": "c78e506b-7ae8-4ccb-b43e-9feabd5da2ed"
      },
      "source": [
        "Utilizaremos el pivoteo\n",
        "\n",
        "Sabemos que el estimador de la media muestral se distribuye $\\bar{x} \\sim N(\\mu,\\frac{\\sigma}{\\sqrt{n}} )$"
      ]
    },
    {
      "cell_type": "markdown",
      "id": "b4999c63-fee8-475e-baff-cf185e8acc26",
      "metadata": {
        "id": "b4999c63-fee8-475e-baff-cf185e8acc26"
      },
      "source": [
        "Si estandarizamos $Z=\\frac{\\bar{x}-\\mu}{ \\frac{\\sigma}{\\sqrt{n}} }$\n",
        "\n",
        "por tanto:"
      ]
    },
    {
      "cell_type": "markdown",
      "id": "d03cc8af-c25d-4fc4-b179-7ad79ad0481d",
      "metadata": {
        "id": "d03cc8af-c25d-4fc4-b179-7ad79ad0481d"
      },
      "source": [
        "$P(-Z_{\\alpha/2} \\leq Z \\leq Z_{\\alpha/2})= 0.95$"
      ]
    },
    {
      "cell_type": "code",
      "execution_count": 25,
      "id": "77af619c-275c-4766-a931-70c411da963d",
      "metadata": {
        "colab": {
          "base_uri": "https://localhost:8080/"
        },
        "id": "77af619c-275c-4766-a931-70c411da963d",
        "outputId": "a2ecb35f-48f1-4dac-ae39-20fd3571049d"
      },
      "outputs": [
        {
          "output_type": "stream",
          "name": "stdout",
          "text": [
            "Los valores de z al 95% son:  (-1.96, 1.96)\n"
          ]
        }
      ],
      "source": [
        "# los valores de z dado alfa\n",
        "confianza=0.95\n",
        "alfa=1-confianza\n",
        "\n",
        "z_izq=norm.ppf(alfa/2).round(2)\n",
        "z_der=norm.ppf(1-(alfa/2)).round(2)\n",
        "\n",
        "print('Los valores de z al 95% son: ',(z_izq,z_der))\n"
      ]
    },
    {
      "cell_type": "markdown",
      "id": "b4c102c2-3b3e-4ce6-9eae-dba59785977e",
      "metadata": {
        "id": "b4c102c2-3b3e-4ce6-9eae-dba59785977e"
      },
      "source": [
        " $P(-1.96\\leq Z\\leq 1.95)=0.95 $ \\\n",
        " Pero sabemos que $Z=\\frac{\\bar{x}-\\mu}{ \\frac{\\sigma}{\\sqrt{n}} }$"
      ]
    },
    {
      "cell_type": "markdown",
      "id": "5bc017dc-29db-4bc9-93a1-4b69964e5a3a",
      "metadata": {
        "id": "5bc017dc-29db-4bc9-93a1-4b69964e5a3a"
      },
      "source": [
        "por tanto \\\n",
        "$P(-1.96\\leq \\frac{\\bar{x}-\\mu}{ \\sigma /\\sqrt{n} } \\leq 1.96)=0.95 $\n",
        "\n",
        "Despejando para $\\mu$\n",
        "\n"
      ]
    },
    {
      "cell_type": "markdown",
      "id": "2288583a-7d7b-4ecf-b2a0-2e074affca1a",
      "metadata": {
        "id": "2288583a-7d7b-4ecf-b2a0-2e074affca1a"
      },
      "source": [
        "$P(-\\bar{x}\\;-1.96 \\cdot{}\\sigma /\\sqrt{n}\\;\\leq -\\mu \\; \\leq \\;-\\bar{x}\\;+1.96 \\cdot{}\\sigma /\\sqrt{n})=0.95 $"
      ]
    },
    {
      "cell_type": "markdown",
      "id": "2b7a6cfa-6322-470b-80a4-97fdd996639b",
      "metadata": {
        "id": "2b7a6cfa-6322-470b-80a4-97fdd996639b"
      },
      "source": [
        "$P(\\bar{x}-\\;(1.96 \\cdot{}\\sigma /\\sqrt{n})\\;\\leq \\;\\mu \\; \\leq\\; \\bar{x}\\;+ (1.96 \\cdot{}\\sigma /\\sqrt{n}))=0.95 $"
      ]
    },
    {
      "cell_type": "code",
      "execution_count": 26,
      "id": "cad7c666-36ab-4f86-bc84-90a10e03209f",
      "metadata": {
        "colab": {
          "base_uri": "https://localhost:8080/"
        },
        "id": "cad7c666-36ab-4f86-bc84-90a10e03209f",
        "outputId": "3932e7ce-1e1b-48b8-babe-c5b4a5ecd1f9"
      },
      "outputs": [
        {
          "output_type": "stream",
          "name": "stdout",
          "text": [
            "Con un 95% de confianza el retorno promedio de las acciones de walmart se encuentra entre: (0.054, 0.066)\n"
          ]
        }
      ],
      "source": [
        "lim_inf= media_muest+(z_izq*(desv_est/sqrt_n))\n",
        "lim_sup= media_muest+(z_der*(desv_est/sqrt_n))\n",
        "\n",
        "print('Con un 95% de confianza el retorno promedio de las acciones de walmart se encuentra entre:',(lim_inf.round(3),lim_sup.round(3)))\n"
      ]
    },
    {
      "cell_type": "markdown",
      "id": "eeff6b40-2da6-4035-b384-5bd0c0475c4d",
      "metadata": {
        "id": "eeff6b40-2da6-4035-b384-5bd0c0475c4d"
      },
      "source": [
        "## Prueba de Hipótesis"
      ]
    },
    {
      "cell_type": "markdown",
      "id": "1e0ce42c-ad2d-4fb5-bacd-65d07ed11c80",
      "metadata": {
        "id": "1e0ce42c-ad2d-4fb5-bacd-65d07ed11c80"
      },
      "source": [
        "**Hipótesis nula ($H_0$)**: La hipótesis nula es la hipótesis que se desea testear (probar), es decir, es la hipótesis que será rechazada o no, de acuerdo a la evidencia proporcionada por los datos con los que se cuenta.\n",
        "\n",
        "**Hipótesis alternativa ($H_a$)**: La hipótesis alternativa es la hipótesis que será contrastada con la hipótesis nula. Es decir, que si la hipótesis nula no es rechazada (es rechazada), implicará que la hipótesis alternativa será rechazada (no rechazada).\n",
        "\n",
        "**Hipótesis mutuamente exclusivas**: Para que una prueba de hipótesis esté correctamente formulada, la hipótesis nula y la alternativa tienen que ser mutuamente exclusivas, es decir, que no pueden existir valores que sean consideradas por ambas hipótesis a la vez."
      ]
    },
    {
      "cell_type": "markdown",
      "id": "7ae2d7c3-17bc-4aee-a9be-d401502c8fb2",
      "metadata": {
        "id": "7ae2d7c3-17bc-4aee-a9be-d401502c8fb2"
      },
      "source": [
        "**Tipos de pruebas de hipótesis**"
      ]
    },
    {
      "cell_type": "markdown",
      "id": "56a073ae-a18e-4017-a64b-8a3fac539187",
      "metadata": {
        "id": "56a073ae-a18e-4017-a64b-8a3fac539187"
      },
      "source": [
        "Pruebas no direccionales:\\\n",
        "$\\begin{cases}{H_0:\\mu=\\mu_0}\\\\\n",
        "H_a:\\mu\\neq\\mu_0\\end{cases}$"
      ]
    },
    {
      "cell_type": "markdown",
      "id": "26af20f5-c41f-40f5-9dda-d76816bc704c",
      "metadata": {
        "id": "26af20f5-c41f-40f5-9dda-d76816bc704c"
      },
      "source": [
        "![image.png](attachment:fe66a5db-4842-4d88-88f8-bf0d655240d2.png)"
      ]
    },
    {
      "cell_type": "markdown",
      "id": "e39db5cd-6f0e-48ba-9d02-a3865d4a044e",
      "metadata": {
        "id": "e39db5cd-6f0e-48ba-9d02-a3865d4a044e"
      },
      "source": [
        "Pruebas direccionales:\\\n",
        "$\\begin{cases}{H_0:\\mu\\geq\\mu_0}\\\\\n",
        "H_a:\\mu<\\mu_0\\end{cases}$ o $\\begin{cases}{H_0:\\mu>\\mu_0}\\\\\n",
        "H_a:\\mu\\leq\\mu_0\\end{cases}$\n",
        "\n",
        "O de lo contrario:\\\n",
        "$\\begin{cases}{H_0:\\mu\\leq\\mu_0}\\\\\n",
        "H_a:\\mu>\\mu_0\\end{cases}$ o $\\begin{cases}{H_0:\\mu<\\mu_0}\\\\\n",
        "H_a:\\mu\\geq\\mu_0\\end{cases}$\n"
      ]
    },
    {
      "cell_type": "markdown",
      "id": "12298859-a1f6-47b1-ac66-4eb82933efd9",
      "metadata": {
        "id": "12298859-a1f6-47b1-ac66-4eb82933efd9"
      },
      "source": [
        "![image.png](attachment:01099449-e25c-44c9-98aa-97c6da720250.png)"
      ]
    },
    {
      "cell_type": "markdown",
      "id": "de428f1e-b4cb-47cb-894f-a79f10a81ee3",
      "metadata": {
        "id": "de428f1e-b4cb-47cb-894f-a79f10a81ee3"
      },
      "source": [
        "![image.png](attachment:e20c2655-80ea-4588-9586-6b005eafaae6.png)"
      ]
    },
    {
      "cell_type": "markdown",
      "id": "5130646b-df58-49cc-87dc-0c5b98431805",
      "metadata": {
        "id": "5130646b-df58-49cc-87dc-0c5b98431805"
      },
      "source": [
        "**Valor de probabilidad/p-valor/p-value**: muestra el nivel de significancia exacta que corresponde al estadístico calculado. Este valor está basado en la hipótesis nula y depende de la distribución que se esté utilizando para la realización de la prueba de la hipótesis. La regla general para decidir en base al p-valor es la siguiente: *Si el p-valor es menor que el nivel de significancia de la prueba ($α$), rechazar $H_0$, de manera contraria no rechazar la hipótesis nula*."
      ]
    },
    {
      "cell_type": "markdown",
      "id": "dd517a5f-6a28-441e-b9eb-7c8a101535a2",
      "metadata": {
        "id": "dd517a5f-6a28-441e-b9eb-7c8a101535a2"
      },
      "source": [
        "<style type=\"text/css\">\n",
        ".tg  {border-collapse:collapse;border-spacing:0;}\n",
        ".tg td{border-color:black;border-style:solid;border-width:1px;font-family:Arial, sans-serif;font-size:14px;\n",
        "  overflow:hidden;padding:10px 5px;word-break:normal;}\n",
        ".tg th{border-color:black;border-style:solid;border-width:1px;font-family:Arial, sans-serif;font-size:14px;\n",
        "  font-weight:normal;overflow:hidden;padding:10px 5px;word-break:normal;}\n",
        ".tg .tg-llyw{background-color:#c0c0c0;border-color:inherit;text-align:left;vertical-align:top}\n",
        ".tg .tg-0pky{border-color:inherit;text-align:left;vertical-align:top}\n",
        "</style>\n",
        "<table class=\"tg\">\n",
        "<thead>\n",
        "  <tr>\n",
        "    <th class=\"tg-llyw\" rowspan=\"2\">Decisión<br>Estadística</th>\n",
        "    <th class=\"tg-llyw\" colspan=\"2\">Condición de la Hipótesis Nula</th>\n",
        "  </tr>\n",
        "  <tr>\n",
        "    <th class=\"tg-llyw\">Hipótesis Nula<br>verdadera</th>\n",
        "    <th class=\"tg-llyw\">Hipótesis Nula<br>Falsa</th>\n",
        "  </tr>\n",
        "</thead>\n",
        "<tbody>\n",
        "  <tr>\n",
        "    <td class=\"tg-0pky\">No Rechazar<br>Hipot Nula</td>\n",
        "    <td class=\"tg-0pky\">Decisión<br>Correcta</td>\n",
        "    <td class=\"tg-0pky\">Error Tipo II<br>&beta;</td>\n",
        "  </tr>\n",
        "  <tr>\n",
        "    <td class=\"tg-0pky\">Rechazar <br>Hipot Nula</td>\n",
        "    <td class=\"tg-0pky\">Error tipo I<br>&alpha;</td>\n",
        "    <td class=\"tg-0pky\">Decisión <br>Correcta</td>\n",
        "  </tr>\n",
        "</tbody>\n",
        "</table>"
      ]
    },
    {
      "cell_type": "markdown",
      "id": "0b9fa637-9851-43bd-9aba-7fc50a47ca10",
      "metadata": {
        "id": "0b9fa637-9851-43bd-9aba-7fc50a47ca10"
      },
      "source": [
        "**Error tipo I $(\\alpha)$**: rechazar cuando algo es verdadero. Ejem cuando tu ex te decía la verdad y tu no le creías\n",
        "\n",
        "**Error tipo II $(\\beta)$**: aceptar como verdadero algo falso. Ejem cuando tu ex te mentía y tu le creías\n"
      ]
    },
    {
      "cell_type": "markdown",
      "id": "b16c9ca0-a335-40e0-bfcc-40df1684fdd7",
      "metadata": {
        "id": "b16c9ca0-a335-40e0-bfcc-40df1684fdd7"
      },
      "source": [
        "**Ejercicio**\\\n",
        "Si los retornos de una determinada acción\n",
        "se distribuyen normalmente (son N-iid).\n",
        "También, se supone que se conoce la desviación estándar poblacional, la cual es igual a $\\sigma=0.02$. Si se tiene una muestra aleatoria de 50 retornos del último año y se calcula la media muestral, que es igual a $\\bar{x}=0.06$."
      ]
    },
    {
      "cell_type": "markdown",
      "id": "80d2055c-9221-4d9d-ad4d-e41a2f048607",
      "metadata": {
        "id": "80d2055c-9221-4d9d-ad4d-e41a2f048607"
      },
      "source": [
        "Se quiere realizar la siguiente prueba de hipótesis con un 95% de confianza:\\\n",
        "$\\begin{cases}{H_0:\\mu=0.061}\\\\\n",
        "H_a:\\mu\\neq0.061\\end{cases}$"
      ]
    },
    {
      "cell_type": "markdown",
      "id": "6d0bc5d9-651c-48fb-b48b-41f7688b403a",
      "metadata": {
        "id": "6d0bc5d9-651c-48fb-b48b-41f7688b403a"
      },
      "source": [
        "Como es una prueba de dos colas, Primero vamos a encontrar los valores de Z, que si recuerda ya los habiamos encontrado"
      ]
    },
    {
      "cell_type": "code",
      "execution_count": 27,
      "id": "2b38a5f0-bb01-4967-ba17-dab5a9d22257",
      "metadata": {
        "colab": {
          "base_uri": "https://localhost:8080/"
        },
        "id": "2b38a5f0-bb01-4967-ba17-dab5a9d22257",
        "outputId": "13918b32-e487-4a2a-88f5-1884131eee9c"
      },
      "outputs": [
        {
          "output_type": "stream",
          "name": "stdout",
          "text": [
            "Los valores de z al 95% son:  (-1.96, 1.96)\n"
          ]
        }
      ],
      "source": [
        "z_izq=norm.ppf(alfa/2).round(2)\n",
        "z_der=norm.ppf(1-(alfa/2)).round(2)\n",
        "\n",
        "print('Los valores de z al 95% son: ',(z_izq,z_der))\n"
      ]
    },
    {
      "cell_type": "markdown",
      "id": "c2082bdf-1476-4df5-ab85-e454ded7b28d",
      "metadata": {
        "id": "c2082bdf-1476-4df5-ab85-e454ded7b28d"
      },
      "source": [
        "ahora vamos a calcular el *z-test* o estadístico de prueba:\\\n",
        "$z-test=\\frac{\\bar{x}-\\mu}{\\sigma/\\sqrt{n}} $\\\n",
        "Sustituyendo\\\n",
        "$z-test=\\frac{0.06-0.061}{0.02/\\sqrt{50}} $"
      ]
    },
    {
      "cell_type": "code",
      "execution_count": 34,
      "id": "67571bb7-d3ce-45a8-bf1c-36858e49ccb3",
      "metadata": {
        "colab": {
          "base_uri": "https://localhost:8080/"
        },
        "id": "67571bb7-d3ce-45a8-bf1c-36858e49ccb3",
        "outputId": "156e5629-c248-48ea-e404-46d2b67a8d42"
      },
      "outputs": [
        {
          "output_type": "stream",
          "name": "stdout",
          "text": [
            "El estadistico de prueba es: -0.35355339059327406\n"
          ]
        }
      ],
      "source": [
        "miu=0.061\n",
        "EP= (media_muest-miu)/(desv_est/sqrt_n)\n",
        "print('El estadistico de prueba es:',EP)"
      ]
    },
    {
      "cell_type": "markdown",
      "id": "2644b19b-5175-4c48-bb7e-38d8fed9b9ce",
      "metadata": {
        "id": "2644b19b-5175-4c48-bb7e-38d8fed9b9ce"
      },
      "source": [
        "![image.png](attachment:6dd756b3-9456-470e-817e-9a496e8f19e7.png)"
      ]
    },
    {
      "cell_type": "code",
      "execution_count": 35,
      "id": "1f68bc34-8844-4030-91b1-1006e68c0e56",
      "metadata": {
        "colab": {
          "base_uri": "https://localhost:8080/"
        },
        "id": "1f68bc34-8844-4030-91b1-1006e68c0e56",
        "outputId": "948a2e18-faf6-41af-eb17-6b3264b895e9"
      },
      "outputs": [
        {
          "output_type": "stream",
          "name": "stdout",
          "text": [
            "Con un 95% de confianza no rechazo H0, significa que 0.061 es un valor posible del verdadero retorno de las acciones de walmart 0.061\n"
          ]
        }
      ],
      "source": [
        "##Con un 95% de confianza no rechazo H0, significa que 0.061 es un valor posible del verdadero retorno de las acciones de walmart"
      ]
    },
    {
      "cell_type": "markdown",
      "id": "7fbc2d22-8137-46ba-8eed-2c7276374367",
      "metadata": {
        "id": "7fbc2d22-8137-46ba-8eed-2c7276374367"
      },
      "source": [
        "Vamos a calcular el **p-value** que corresponde al nivel de significancia exacta del estadístico calculado. Cómo es una prueba de dos colas, se necesita saber $P(Z>0.35)$ y $P(Z<-0.35)$"
      ]
    },
    {
      "cell_type": "markdown",
      "id": "1532b38c-c0fd-4c28-bf55-bdece1bb28e9",
      "metadata": {
        "id": "1532b38c-c0fd-4c28-bf55-bdece1bb28e9"
      },
      "source": [
        "![image.png](attachment:b8a81c43-c865-4b56-aec6-3a7c266d9a51.png)"
      ]
    },
    {
      "cell_type": "code",
      "execution_count": 38,
      "id": "b80e9faa-2026-41c7-ab6a-5fa9246ff45b",
      "metadata": {
        "colab": {
          "base_uri": "https://localhost:8080/"
        },
        "id": "b80e9faa-2026-41c7-ab6a-5fa9246ff45b",
        "outputId": "0cc0a54f-c203-483e-8919-cc5b67bd9829"
      },
      "outputs": [
        {
          "output_type": "stream",
          "name": "stdout",
          "text": [
            "El p-value es: 0.7236736098317629\n"
          ]
        }
      ],
      "source": [
        "prob_EP= norm.cdf(EP)\n",
        "p_value= prob_EP*2\n",
        "\n",
        "print('El p-value es:',p_value)"
      ]
    },
    {
      "cell_type": "markdown",
      "id": "183e734d-5452-437e-9145-32d8e57741b1",
      "metadata": {
        "id": "183e734d-5452-437e-9145-32d8e57741b1"
      },
      "source": [
        "Regla de decisión: si el **p-valor**$ < \\alpha $ entonces rechazar $H_0$."
      ]
    },
    {
      "cell_type": "code",
      "execution_count": 50,
      "id": "f1af9413-6603-4729-b369-764d1ef896bb",
      "metadata": {
        "colab": {
          "base_uri": "https://localhost:8080/"
        },
        "id": "f1af9413-6603-4729-b369-764d1ef896bb",
        "outputId": "4ef24286-9132-4b40-b82a-c6067dde51a3"
      },
      "outputs": [
        {
          "output_type": "stream",
          "name": "stdout",
          "text": [
            "Dado que el p valor es mayor a nuestro alfa, NO rechazamos H0, lo que significa que 0.061 es un valor posible de el retorno de las acciones de walmart\n"
          ]
        }
      ],
      "source": [
        "if p_value<=alfa:\n",
        "    print('Dado que el p valor es menor a nuestro alfa, rechazamos H0, lo que significa que 0.061 no es un valor posible de el retorno de las acciones de walmart')\n",
        "else:\n",
        "    print('Dado que el p valor es mayor a nuestro alfa, NO rechazamos H0, lo que significa que 0.061 es un valor posible de el retorno de las acciones de walmart')\n"
      ]
    },
    {
      "cell_type": "markdown",
      "id": "8138390e-13b8-4706-a1f5-59d4565284c7",
      "metadata": {
        "id": "8138390e-13b8-4706-a1f5-59d4565284c7"
      },
      "source": [
        "Recuerde que el P-value corresponde el nivel de significancia exacta ($ \\alpha$), recuerde que el $\\alpha$ es el error tipo I, es decir, la probabilidad de rechazar algo cierto. Tenemos una probabilidad de 72% de rechazar algo cierto; es una probabilidad muy alta de rechazar algo verdadero, por lógica no deberiamos rechazar la hipótesis nula.      "
      ]
    }
  ],
  "metadata": {
    "kernelspec": {
      "display_name": "Python 3 (ipykernel)",
      "language": "python",
      "name": "python3"
    },
    "language_info": {
      "codemirror_mode": {
        "name": "ipython",
        "version": 3
      },
      "file_extension": ".py",
      "mimetype": "text/x-python",
      "name": "python",
      "nbconvert_exporter": "python",
      "pygments_lexer": "ipython3",
      "version": "3.9.7"
    },
    "colab": {
      "provenance": [],
      "include_colab_link": true
    }
  },
  "nbformat": 4,
  "nbformat_minor": 5
}