{
  "cells": [
    {
      "cell_type": "markdown",
      "metadata": {
        "id": "view-in-github",
        "colab_type": "text"
      },
      "source": [
        "<a href=\"https://colab.research.google.com/github/IvRodco/EstadisticaAplicasa_1899843/blob/main/Actividad3_ILRA_1899843_EAG41_ago2023.ipynb\" target=\"_parent\"><img src=\"https://colab.research.google.com/assets/colab-badge.svg\" alt=\"Open In Colab\"/></a>"
      ]
    },
    {
      "cell_type": "markdown",
      "id": "15077421-4fb8-48e1-a360-252e20cde59a",
      "metadata": {
        "id": "15077421-4fb8-48e1-a360-252e20cde59a"
      },
      "source": [
        "# Ejercicio de Pandas"
      ]
    },
    {
      "cell_type": "markdown",
      "id": "453c7bc5-10c6-4adf-aec4-e14206fcf11f",
      "metadata": {
        "id": "453c7bc5-10c6-4adf-aec4-e14206fcf11f"
      },
      "source": [
        "Carga las 2 librerias que hemos visto a lo largo del curso junto con su \"apodo\"\n",
        "\n",
        "numpy, y pandas"
      ]
    },
    {
      "cell_type": "markdown",
      "id": "e49faae5-5c69-4680-a9ba-c33e25347850",
      "metadata": {
        "id": "e49faae5-5c69-4680-a9ba-c33e25347850"
      },
      "source": [
        "**Coloca tu nombre y matricula**\n",
        "\n",
        "Nombre: Ivanna Lizeth Rodriguez Ambriz\n",
        "\n",
        "Matricula: 1899843"
      ]
    },
    {
      "cell_type": "markdown",
      "id": "98dba434",
      "metadata": {
        "id": "98dba434"
      },
      "source": [
        "1. Carga las librerias básicas"
      ]
    },
    {
      "cell_type": "code",
      "execution_count": 1,
      "id": "c93b212d-5354-4a80-8de8-dd23f90d8f1a",
      "metadata": {
        "id": "c93b212d-5354-4a80-8de8-dd23f90d8f1a"
      },
      "outputs": [],
      "source": [
        "##### carga las dos librerias usadas (numpy, pandas )\n",
        "\n",
        "import pandas as pd\n",
        "import numpy as np\n"
      ]
    },
    {
      "cell_type": "markdown",
      "id": "80e5a00d-5aeb-4ae0-be87-fb17cc86d3fd",
      "metadata": {
        "tags": [],
        "id": "80e5a00d-5aeb-4ae0-be87-fb17cc86d3fd"
      },
      "source": [
        "El siguiente comando importa un data frame desde un archivo csv de internet"
      ]
    },
    {
      "cell_type": "code",
      "execution_count": 2,
      "id": "48bf2527-df27-43d8-bdd0-20fae67e645e",
      "metadata": {
        "colab": {
          "base_uri": "https://localhost:8080/",
          "height": 423
        },
        "id": "48bf2527-df27-43d8-bdd0-20fae67e645e",
        "outputId": "33f6235a-8c73-41e4-b231-876f08b601e8"
      },
      "outputs": [
        {
          "output_type": "execute_result",
          "data": {
            "text/plain": [
              "      Año         Mes  Ventas  Gasto\n",
              "0    2010       Enero    1056    533\n",
              "1    2010     Febrero     910    496\n",
              "2    2010       Marzo    1095    695\n",
              "3    2010       Abril    1157    599\n",
              "4    2010        Mayo     969    490\n",
              "..    ...         ...     ...    ...\n",
              "163  2023      Agosto    1759   1818\n",
              "164  2023  Septiembre    2114   2142\n",
              "165  2023     Octubre    2120   1767\n",
              "166  2023   Noviembre    2102   1652\n",
              "167  2023   Diciembre    2166   2192\n",
              "\n",
              "[168 rows x 4 columns]"
            ],
            "text/html": [
              "\n",
              "  <div id=\"df-3d445764-de27-4350-841e-3d5a11ea0ea8\" class=\"colab-df-container\">\n",
              "    <div>\n",
              "<style scoped>\n",
              "    .dataframe tbody tr th:only-of-type {\n",
              "        vertical-align: middle;\n",
              "    }\n",
              "\n",
              "    .dataframe tbody tr th {\n",
              "        vertical-align: top;\n",
              "    }\n",
              "\n",
              "    .dataframe thead th {\n",
              "        text-align: right;\n",
              "    }\n",
              "</style>\n",
              "<table border=\"1\" class=\"dataframe\">\n",
              "  <thead>\n",
              "    <tr style=\"text-align: right;\">\n",
              "      <th></th>\n",
              "      <th>Año</th>\n",
              "      <th>Mes</th>\n",
              "      <th>Ventas</th>\n",
              "      <th>Gasto</th>\n",
              "    </tr>\n",
              "  </thead>\n",
              "  <tbody>\n",
              "    <tr>\n",
              "      <th>0</th>\n",
              "      <td>2010</td>\n",
              "      <td>Enero</td>\n",
              "      <td>1056</td>\n",
              "      <td>533</td>\n",
              "    </tr>\n",
              "    <tr>\n",
              "      <th>1</th>\n",
              "      <td>2010</td>\n",
              "      <td>Febrero</td>\n",
              "      <td>910</td>\n",
              "      <td>496</td>\n",
              "    </tr>\n",
              "    <tr>\n",
              "      <th>2</th>\n",
              "      <td>2010</td>\n",
              "      <td>Marzo</td>\n",
              "      <td>1095</td>\n",
              "      <td>695</td>\n",
              "    </tr>\n",
              "    <tr>\n",
              "      <th>3</th>\n",
              "      <td>2010</td>\n",
              "      <td>Abril</td>\n",
              "      <td>1157</td>\n",
              "      <td>599</td>\n",
              "    </tr>\n",
              "    <tr>\n",
              "      <th>4</th>\n",
              "      <td>2010</td>\n",
              "      <td>Mayo</td>\n",
              "      <td>969</td>\n",
              "      <td>490</td>\n",
              "    </tr>\n",
              "    <tr>\n",
              "      <th>...</th>\n",
              "      <td>...</td>\n",
              "      <td>...</td>\n",
              "      <td>...</td>\n",
              "      <td>...</td>\n",
              "    </tr>\n",
              "    <tr>\n",
              "      <th>163</th>\n",
              "      <td>2023</td>\n",
              "      <td>Agosto</td>\n",
              "      <td>1759</td>\n",
              "      <td>1818</td>\n",
              "    </tr>\n",
              "    <tr>\n",
              "      <th>164</th>\n",
              "      <td>2023</td>\n",
              "      <td>Septiembre</td>\n",
              "      <td>2114</td>\n",
              "      <td>2142</td>\n",
              "    </tr>\n",
              "    <tr>\n",
              "      <th>165</th>\n",
              "      <td>2023</td>\n",
              "      <td>Octubre</td>\n",
              "      <td>2120</td>\n",
              "      <td>1767</td>\n",
              "    </tr>\n",
              "    <tr>\n",
              "      <th>166</th>\n",
              "      <td>2023</td>\n",
              "      <td>Noviembre</td>\n",
              "      <td>2102</td>\n",
              "      <td>1652</td>\n",
              "    </tr>\n",
              "    <tr>\n",
              "      <th>167</th>\n",
              "      <td>2023</td>\n",
              "      <td>Diciembre</td>\n",
              "      <td>2166</td>\n",
              "      <td>2192</td>\n",
              "    </tr>\n",
              "  </tbody>\n",
              "</table>\n",
              "<p>168 rows × 4 columns</p>\n",
              "</div>\n",
              "    <div class=\"colab-df-buttons\">\n",
              "\n",
              "  <div class=\"colab-df-container\">\n",
              "    <button class=\"colab-df-convert\" onclick=\"convertToInteractive('df-3d445764-de27-4350-841e-3d5a11ea0ea8')\"\n",
              "            title=\"Convert this dataframe to an interactive table.\"\n",
              "            style=\"display:none;\">\n",
              "\n",
              "  <svg xmlns=\"http://www.w3.org/2000/svg\" height=\"24px\" viewBox=\"0 -960 960 960\">\n",
              "    <path d=\"M120-120v-720h720v720H120Zm60-500h600v-160H180v160Zm220 220h160v-160H400v160Zm0 220h160v-160H400v160ZM180-400h160v-160H180v160Zm440 0h160v-160H620v160ZM180-180h160v-160H180v160Zm440 0h160v-160H620v160Z\"/>\n",
              "  </svg>\n",
              "    </button>\n",
              "\n",
              "  <style>\n",
              "    .colab-df-container {\n",
              "      display:flex;\n",
              "      gap: 12px;\n",
              "    }\n",
              "\n",
              "    .colab-df-convert {\n",
              "      background-color: #E8F0FE;\n",
              "      border: none;\n",
              "      border-radius: 50%;\n",
              "      cursor: pointer;\n",
              "      display: none;\n",
              "      fill: #1967D2;\n",
              "      height: 32px;\n",
              "      padding: 0 0 0 0;\n",
              "      width: 32px;\n",
              "    }\n",
              "\n",
              "    .colab-df-convert:hover {\n",
              "      background-color: #E2EBFA;\n",
              "      box-shadow: 0px 1px 2px rgba(60, 64, 67, 0.3), 0px 1px 3px 1px rgba(60, 64, 67, 0.15);\n",
              "      fill: #174EA6;\n",
              "    }\n",
              "\n",
              "    .colab-df-buttons div {\n",
              "      margin-bottom: 4px;\n",
              "    }\n",
              "\n",
              "    [theme=dark] .colab-df-convert {\n",
              "      background-color: #3B4455;\n",
              "      fill: #D2E3FC;\n",
              "    }\n",
              "\n",
              "    [theme=dark] .colab-df-convert:hover {\n",
              "      background-color: #434B5C;\n",
              "      box-shadow: 0px 1px 3px 1px rgba(0, 0, 0, 0.15);\n",
              "      filter: drop-shadow(0px 1px 2px rgba(0, 0, 0, 0.3));\n",
              "      fill: #FFFFFF;\n",
              "    }\n",
              "  </style>\n",
              "\n",
              "    <script>\n",
              "      const buttonEl =\n",
              "        document.querySelector('#df-3d445764-de27-4350-841e-3d5a11ea0ea8 button.colab-df-convert');\n",
              "      buttonEl.style.display =\n",
              "        google.colab.kernel.accessAllowed ? 'block' : 'none';\n",
              "\n",
              "      async function convertToInteractive(key) {\n",
              "        const element = document.querySelector('#df-3d445764-de27-4350-841e-3d5a11ea0ea8');\n",
              "        const dataTable =\n",
              "          await google.colab.kernel.invokeFunction('convertToInteractive',\n",
              "                                                    [key], {});\n",
              "        if (!dataTable) return;\n",
              "\n",
              "        const docLinkHtml = 'Like what you see? Visit the ' +\n",
              "          '<a target=\"_blank\" href=https://colab.research.google.com/notebooks/data_table.ipynb>data table notebook</a>'\n",
              "          + ' to learn more about interactive tables.';\n",
              "        element.innerHTML = '';\n",
              "        dataTable['output_type'] = 'display_data';\n",
              "        await google.colab.output.renderOutput(dataTable, element);\n",
              "        const docLink = document.createElement('div');\n",
              "        docLink.innerHTML = docLinkHtml;\n",
              "        element.appendChild(docLink);\n",
              "      }\n",
              "    </script>\n",
              "  </div>\n",
              "\n",
              "\n",
              "<div id=\"df-6369e421-f066-4e17-ad96-e45c3897a230\">\n",
              "  <button class=\"colab-df-quickchart\" onclick=\"quickchart('df-6369e421-f066-4e17-ad96-e45c3897a230')\"\n",
              "            title=\"Suggest charts.\"\n",
              "            style=\"display:none;\">\n",
              "\n",
              "<svg xmlns=\"http://www.w3.org/2000/svg\" height=\"24px\"viewBox=\"0 0 24 24\"\n",
              "     width=\"24px\">\n",
              "    <g>\n",
              "        <path d=\"M19 3H5c-1.1 0-2 .9-2 2v14c0 1.1.9 2 2 2h14c1.1 0 2-.9 2-2V5c0-1.1-.9-2-2-2zM9 17H7v-7h2v7zm4 0h-2V7h2v10zm4 0h-2v-4h2v4z\"/>\n",
              "    </g>\n",
              "</svg>\n",
              "  </button>\n",
              "\n",
              "<style>\n",
              "  .colab-df-quickchart {\n",
              "    background-color: #E8F0FE;\n",
              "    border: none;\n",
              "    border-radius: 50%;\n",
              "    cursor: pointer;\n",
              "    display: none;\n",
              "    fill: #1967D2;\n",
              "    height: 32px;\n",
              "    padding: 0 0 0 0;\n",
              "    width: 32px;\n",
              "  }\n",
              "\n",
              "  .colab-df-quickchart:hover {\n",
              "    background-color: #E2EBFA;\n",
              "    box-shadow: 0px 1px 2px rgba(60, 64, 67, 0.3), 0px 1px 3px 1px rgba(60, 64, 67, 0.15);\n",
              "    fill: #174EA6;\n",
              "  }\n",
              "\n",
              "  [theme=dark] .colab-df-quickchart {\n",
              "    background-color: #3B4455;\n",
              "    fill: #D2E3FC;\n",
              "  }\n",
              "\n",
              "  [theme=dark] .colab-df-quickchart:hover {\n",
              "    background-color: #434B5C;\n",
              "    box-shadow: 0px 1px 3px 1px rgba(0, 0, 0, 0.15);\n",
              "    filter: drop-shadow(0px 1px 2px rgba(0, 0, 0, 0.3));\n",
              "    fill: #FFFFFF;\n",
              "  }\n",
              "</style>\n",
              "\n",
              "  <script>\n",
              "    async function quickchart(key) {\n",
              "      const charts = await google.colab.kernel.invokeFunction(\n",
              "          'suggestCharts', [key], {});\n",
              "    }\n",
              "    (() => {\n",
              "      let quickchartButtonEl =\n",
              "        document.querySelector('#df-6369e421-f066-4e17-ad96-e45c3897a230 button');\n",
              "      quickchartButtonEl.style.display =\n",
              "        google.colab.kernel.accessAllowed ? 'block' : 'none';\n",
              "    })();\n",
              "  </script>\n",
              "</div>\n",
              "    </div>\n",
              "  </div>\n"
            ]
          },
          "metadata": {},
          "execution_count": 2
        }
      ],
      "source": [
        "ventas = pd.read_csv('https://raw.githubusercontent.com/jimmyzac/Estadistica-Aplicada-FCFM-UANL/main/bases_datos/ventas2.csv')\n",
        "type(ventas)\n",
        "ventas.round()\n",
        "ventas"
      ]
    },
    {
      "cell_type": "markdown",
      "id": "3ea4f5ac",
      "metadata": {
        "id": "3ea4f5ac"
      },
      "source": [
        "En caso de que una cantidad contenga decimales, debe estar redondeada a un decimal"
      ]
    },
    {
      "cell_type": "markdown",
      "id": "e963be95",
      "metadata": {
        "id": "e963be95"
      },
      "source": [
        "2. Características del dataframe"
      ]
    },
    {
      "cell_type": "code",
      "execution_count": 3,
      "id": "70524dc3-d37d-42e0-a570-21d022719a59",
      "metadata": {
        "colab": {
          "base_uri": "https://localhost:8080/"
        },
        "id": "70524dc3-d37d-42e0-a570-21d022719a59",
        "outputId": "48255383-f225-43be-ffcf-3cbedeb82414"
      },
      "outputs": [
        {
          "output_type": "execute_result",
          "data": {
            "text/plain": [
              "(168, 4)"
            ]
          },
          "metadata": {},
          "execution_count": 3
        }
      ],
      "source": [
        "#con código de python muestra cuantas filas y columnas tiene el dataframe y como se llaman las columnas\n",
        "ventas.shape\n",
        "\n",
        "##TENEMOS 168 FILAS Y 4 COLUMNAS\n"
      ]
    },
    {
      "cell_type": "code",
      "execution_count": 4,
      "id": "7256d6a9-86f1-4713-afe5-6564cd004bdc",
      "metadata": {
        "colab": {
          "base_uri": "https://localhost:8080/",
          "height": 206
        },
        "id": "7256d6a9-86f1-4713-afe5-6564cd004bdc",
        "outputId": "4d7f3522-ac14-4c05-a602-3176d0939f9d"
      },
      "outputs": [
        {
          "output_type": "execute_result",
          "data": {
            "text/plain": [
              "    Año      Mes  Ventas  Gasto\n",
              "0  2010    Enero    1056    533\n",
              "1  2010  Febrero     910    496\n",
              "2  2010    Marzo    1095    695\n",
              "3  2010    Abril    1157    599\n",
              "4  2010     Mayo     969    490"
            ],
            "text/html": [
              "\n",
              "  <div id=\"df-ec94e02f-2071-44c8-8c5e-de51caf0cdbf\" class=\"colab-df-container\">\n",
              "    <div>\n",
              "<style scoped>\n",
              "    .dataframe tbody tr th:only-of-type {\n",
              "        vertical-align: middle;\n",
              "    }\n",
              "\n",
              "    .dataframe tbody tr th {\n",
              "        vertical-align: top;\n",
              "    }\n",
              "\n",
              "    .dataframe thead th {\n",
              "        text-align: right;\n",
              "    }\n",
              "</style>\n",
              "<table border=\"1\" class=\"dataframe\">\n",
              "  <thead>\n",
              "    <tr style=\"text-align: right;\">\n",
              "      <th></th>\n",
              "      <th>Año</th>\n",
              "      <th>Mes</th>\n",
              "      <th>Ventas</th>\n",
              "      <th>Gasto</th>\n",
              "    </tr>\n",
              "  </thead>\n",
              "  <tbody>\n",
              "    <tr>\n",
              "      <th>0</th>\n",
              "      <td>2010</td>\n",
              "      <td>Enero</td>\n",
              "      <td>1056</td>\n",
              "      <td>533</td>\n",
              "    </tr>\n",
              "    <tr>\n",
              "      <th>1</th>\n",
              "      <td>2010</td>\n",
              "      <td>Febrero</td>\n",
              "      <td>910</td>\n",
              "      <td>496</td>\n",
              "    </tr>\n",
              "    <tr>\n",
              "      <th>2</th>\n",
              "      <td>2010</td>\n",
              "      <td>Marzo</td>\n",
              "      <td>1095</td>\n",
              "      <td>695</td>\n",
              "    </tr>\n",
              "    <tr>\n",
              "      <th>3</th>\n",
              "      <td>2010</td>\n",
              "      <td>Abril</td>\n",
              "      <td>1157</td>\n",
              "      <td>599</td>\n",
              "    </tr>\n",
              "    <tr>\n",
              "      <th>4</th>\n",
              "      <td>2010</td>\n",
              "      <td>Mayo</td>\n",
              "      <td>969</td>\n",
              "      <td>490</td>\n",
              "    </tr>\n",
              "  </tbody>\n",
              "</table>\n",
              "</div>\n",
              "    <div class=\"colab-df-buttons\">\n",
              "\n",
              "  <div class=\"colab-df-container\">\n",
              "    <button class=\"colab-df-convert\" onclick=\"convertToInteractive('df-ec94e02f-2071-44c8-8c5e-de51caf0cdbf')\"\n",
              "            title=\"Convert this dataframe to an interactive table.\"\n",
              "            style=\"display:none;\">\n",
              "\n",
              "  <svg xmlns=\"http://www.w3.org/2000/svg\" height=\"24px\" viewBox=\"0 -960 960 960\">\n",
              "    <path d=\"M120-120v-720h720v720H120Zm60-500h600v-160H180v160Zm220 220h160v-160H400v160Zm0 220h160v-160H400v160ZM180-400h160v-160H180v160Zm440 0h160v-160H620v160ZM180-180h160v-160H180v160Zm440 0h160v-160H620v160Z\"/>\n",
              "  </svg>\n",
              "    </button>\n",
              "\n",
              "  <style>\n",
              "    .colab-df-container {\n",
              "      display:flex;\n",
              "      gap: 12px;\n",
              "    }\n",
              "\n",
              "    .colab-df-convert {\n",
              "      background-color: #E8F0FE;\n",
              "      border: none;\n",
              "      border-radius: 50%;\n",
              "      cursor: pointer;\n",
              "      display: none;\n",
              "      fill: #1967D2;\n",
              "      height: 32px;\n",
              "      padding: 0 0 0 0;\n",
              "      width: 32px;\n",
              "    }\n",
              "\n",
              "    .colab-df-convert:hover {\n",
              "      background-color: #E2EBFA;\n",
              "      box-shadow: 0px 1px 2px rgba(60, 64, 67, 0.3), 0px 1px 3px 1px rgba(60, 64, 67, 0.15);\n",
              "      fill: #174EA6;\n",
              "    }\n",
              "\n",
              "    .colab-df-buttons div {\n",
              "      margin-bottom: 4px;\n",
              "    }\n",
              "\n",
              "    [theme=dark] .colab-df-convert {\n",
              "      background-color: #3B4455;\n",
              "      fill: #D2E3FC;\n",
              "    }\n",
              "\n",
              "    [theme=dark] .colab-df-convert:hover {\n",
              "      background-color: #434B5C;\n",
              "      box-shadow: 0px 1px 3px 1px rgba(0, 0, 0, 0.15);\n",
              "      filter: drop-shadow(0px 1px 2px rgba(0, 0, 0, 0.3));\n",
              "      fill: #FFFFFF;\n",
              "    }\n",
              "  </style>\n",
              "\n",
              "    <script>\n",
              "      const buttonEl =\n",
              "        document.querySelector('#df-ec94e02f-2071-44c8-8c5e-de51caf0cdbf button.colab-df-convert');\n",
              "      buttonEl.style.display =\n",
              "        google.colab.kernel.accessAllowed ? 'block' : 'none';\n",
              "\n",
              "      async function convertToInteractive(key) {\n",
              "        const element = document.querySelector('#df-ec94e02f-2071-44c8-8c5e-de51caf0cdbf');\n",
              "        const dataTable =\n",
              "          await google.colab.kernel.invokeFunction('convertToInteractive',\n",
              "                                                    [key], {});\n",
              "        if (!dataTable) return;\n",
              "\n",
              "        const docLinkHtml = 'Like what you see? Visit the ' +\n",
              "          '<a target=\"_blank\" href=https://colab.research.google.com/notebooks/data_table.ipynb>data table notebook</a>'\n",
              "          + ' to learn more about interactive tables.';\n",
              "        element.innerHTML = '';\n",
              "        dataTable['output_type'] = 'display_data';\n",
              "        await google.colab.output.renderOutput(dataTable, element);\n",
              "        const docLink = document.createElement('div');\n",
              "        docLink.innerHTML = docLinkHtml;\n",
              "        element.appendChild(docLink);\n",
              "      }\n",
              "    </script>\n",
              "  </div>\n",
              "\n",
              "\n",
              "<div id=\"df-21c234a5-e128-401f-8fed-4a9adfa9754b\">\n",
              "  <button class=\"colab-df-quickchart\" onclick=\"quickchart('df-21c234a5-e128-401f-8fed-4a9adfa9754b')\"\n",
              "            title=\"Suggest charts.\"\n",
              "            style=\"display:none;\">\n",
              "\n",
              "<svg xmlns=\"http://www.w3.org/2000/svg\" height=\"24px\"viewBox=\"0 0 24 24\"\n",
              "     width=\"24px\">\n",
              "    <g>\n",
              "        <path d=\"M19 3H5c-1.1 0-2 .9-2 2v14c0 1.1.9 2 2 2h14c1.1 0 2-.9 2-2V5c0-1.1-.9-2-2-2zM9 17H7v-7h2v7zm4 0h-2V7h2v10zm4 0h-2v-4h2v4z\"/>\n",
              "    </g>\n",
              "</svg>\n",
              "  </button>\n",
              "\n",
              "<style>\n",
              "  .colab-df-quickchart {\n",
              "    background-color: #E8F0FE;\n",
              "    border: none;\n",
              "    border-radius: 50%;\n",
              "    cursor: pointer;\n",
              "    display: none;\n",
              "    fill: #1967D2;\n",
              "    height: 32px;\n",
              "    padding: 0 0 0 0;\n",
              "    width: 32px;\n",
              "  }\n",
              "\n",
              "  .colab-df-quickchart:hover {\n",
              "    background-color: #E2EBFA;\n",
              "    box-shadow: 0px 1px 2px rgba(60, 64, 67, 0.3), 0px 1px 3px 1px rgba(60, 64, 67, 0.15);\n",
              "    fill: #174EA6;\n",
              "  }\n",
              "\n",
              "  [theme=dark] .colab-df-quickchart {\n",
              "    background-color: #3B4455;\n",
              "    fill: #D2E3FC;\n",
              "  }\n",
              "\n",
              "  [theme=dark] .colab-df-quickchart:hover {\n",
              "    background-color: #434B5C;\n",
              "    box-shadow: 0px 1px 3px 1px rgba(0, 0, 0, 0.15);\n",
              "    filter: drop-shadow(0px 1px 2px rgba(0, 0, 0, 0.3));\n",
              "    fill: #FFFFFF;\n",
              "  }\n",
              "</style>\n",
              "\n",
              "  <script>\n",
              "    async function quickchart(key) {\n",
              "      const charts = await google.colab.kernel.invokeFunction(\n",
              "          'suggestCharts', [key], {});\n",
              "    }\n",
              "    (() => {\n",
              "      let quickchartButtonEl =\n",
              "        document.querySelector('#df-21c234a5-e128-401f-8fed-4a9adfa9754b button');\n",
              "      quickchartButtonEl.style.display =\n",
              "        google.colab.kernel.accessAllowed ? 'block' : 'none';\n",
              "    })();\n",
              "  </script>\n",
              "</div>\n",
              "    </div>\n",
              "  </div>\n"
            ]
          },
          "metadata": {},
          "execution_count": 4
        }
      ],
      "source": [
        "#muestra las primeras 5 filas del dataframe\n",
        "ventas.head(5)\n"
      ]
    },
    {
      "cell_type": "markdown",
      "id": "2c10a937-50af-4d99-9dfe-9128a8e21fac",
      "metadata": {
        "id": "2c10a937-50af-4d99-9dfe-9128a8e21fac"
      },
      "source": [
        "*ventas es una base de datos que contiene las ventas mensuales de una tienda X para los años 2010-2023*"
      ]
    },
    {
      "cell_type": "markdown",
      "id": "0f97e867-2de1-45ff-ba01-b5fed8e7fbe8",
      "metadata": {
        "id": "0f97e867-2de1-45ff-ba01-b5fed8e7fbe8"
      },
      "source": [
        "3. Crea una nueva columna que se llame **Ganancias** y que contenga la diferencia entre ventas-gastos"
      ]
    },
    {
      "cell_type": "code",
      "execution_count": 5,
      "id": "769b870a-802b-4c27-864d-f9a442e287bb",
      "metadata": {
        "colab": {
          "base_uri": "https://localhost:8080/",
          "height": 423
        },
        "id": "769b870a-802b-4c27-864d-f9a442e287bb",
        "outputId": "ca241e71-d3cc-415f-973d-c583e3c4b955"
      },
      "outputs": [
        {
          "output_type": "execute_result",
          "data": {
            "text/plain": [
              "      Año         Mes  Ventas  Gasto  Ganancias\n",
              "0    2010       Enero    1056    533        523\n",
              "1    2010     Febrero     910    496        414\n",
              "2    2010       Marzo    1095    695        400\n",
              "3    2010       Abril    1157    599        558\n",
              "4    2010        Mayo     969    490        479\n",
              "..    ...         ...     ...    ...        ...\n",
              "163  2023      Agosto    1759   1818        -59\n",
              "164  2023  Septiembre    2114   2142        -28\n",
              "165  2023     Octubre    2120   1767        353\n",
              "166  2023   Noviembre    2102   1652        450\n",
              "167  2023   Diciembre    2166   2192        -26\n",
              "\n",
              "[168 rows x 5 columns]"
            ],
            "text/html": [
              "\n",
              "  <div id=\"df-465b110b-bce3-4012-8c00-4365d9f02b7c\" class=\"colab-df-container\">\n",
              "    <div>\n",
              "<style scoped>\n",
              "    .dataframe tbody tr th:only-of-type {\n",
              "        vertical-align: middle;\n",
              "    }\n",
              "\n",
              "    .dataframe tbody tr th {\n",
              "        vertical-align: top;\n",
              "    }\n",
              "\n",
              "    .dataframe thead th {\n",
              "        text-align: right;\n",
              "    }\n",
              "</style>\n",
              "<table border=\"1\" class=\"dataframe\">\n",
              "  <thead>\n",
              "    <tr style=\"text-align: right;\">\n",
              "      <th></th>\n",
              "      <th>Año</th>\n",
              "      <th>Mes</th>\n",
              "      <th>Ventas</th>\n",
              "      <th>Gasto</th>\n",
              "      <th>Ganancias</th>\n",
              "    </tr>\n",
              "  </thead>\n",
              "  <tbody>\n",
              "    <tr>\n",
              "      <th>0</th>\n",
              "      <td>2010</td>\n",
              "      <td>Enero</td>\n",
              "      <td>1056</td>\n",
              "      <td>533</td>\n",
              "      <td>523</td>\n",
              "    </tr>\n",
              "    <tr>\n",
              "      <th>1</th>\n",
              "      <td>2010</td>\n",
              "      <td>Febrero</td>\n",
              "      <td>910</td>\n",
              "      <td>496</td>\n",
              "      <td>414</td>\n",
              "    </tr>\n",
              "    <tr>\n",
              "      <th>2</th>\n",
              "      <td>2010</td>\n",
              "      <td>Marzo</td>\n",
              "      <td>1095</td>\n",
              "      <td>695</td>\n",
              "      <td>400</td>\n",
              "    </tr>\n",
              "    <tr>\n",
              "      <th>3</th>\n",
              "      <td>2010</td>\n",
              "      <td>Abril</td>\n",
              "      <td>1157</td>\n",
              "      <td>599</td>\n",
              "      <td>558</td>\n",
              "    </tr>\n",
              "    <tr>\n",
              "      <th>4</th>\n",
              "      <td>2010</td>\n",
              "      <td>Mayo</td>\n",
              "      <td>969</td>\n",
              "      <td>490</td>\n",
              "      <td>479</td>\n",
              "    </tr>\n",
              "    <tr>\n",
              "      <th>...</th>\n",
              "      <td>...</td>\n",
              "      <td>...</td>\n",
              "      <td>...</td>\n",
              "      <td>...</td>\n",
              "      <td>...</td>\n",
              "    </tr>\n",
              "    <tr>\n",
              "      <th>163</th>\n",
              "      <td>2023</td>\n",
              "      <td>Agosto</td>\n",
              "      <td>1759</td>\n",
              "      <td>1818</td>\n",
              "      <td>-59</td>\n",
              "    </tr>\n",
              "    <tr>\n",
              "      <th>164</th>\n",
              "      <td>2023</td>\n",
              "      <td>Septiembre</td>\n",
              "      <td>2114</td>\n",
              "      <td>2142</td>\n",
              "      <td>-28</td>\n",
              "    </tr>\n",
              "    <tr>\n",
              "      <th>165</th>\n",
              "      <td>2023</td>\n",
              "      <td>Octubre</td>\n",
              "      <td>2120</td>\n",
              "      <td>1767</td>\n",
              "      <td>353</td>\n",
              "    </tr>\n",
              "    <tr>\n",
              "      <th>166</th>\n",
              "      <td>2023</td>\n",
              "      <td>Noviembre</td>\n",
              "      <td>2102</td>\n",
              "      <td>1652</td>\n",
              "      <td>450</td>\n",
              "    </tr>\n",
              "    <tr>\n",
              "      <th>167</th>\n",
              "      <td>2023</td>\n",
              "      <td>Diciembre</td>\n",
              "      <td>2166</td>\n",
              "      <td>2192</td>\n",
              "      <td>-26</td>\n",
              "    </tr>\n",
              "  </tbody>\n",
              "</table>\n",
              "<p>168 rows × 5 columns</p>\n",
              "</div>\n",
              "    <div class=\"colab-df-buttons\">\n",
              "\n",
              "  <div class=\"colab-df-container\">\n",
              "    <button class=\"colab-df-convert\" onclick=\"convertToInteractive('df-465b110b-bce3-4012-8c00-4365d9f02b7c')\"\n",
              "            title=\"Convert this dataframe to an interactive table.\"\n",
              "            style=\"display:none;\">\n",
              "\n",
              "  <svg xmlns=\"http://www.w3.org/2000/svg\" height=\"24px\" viewBox=\"0 -960 960 960\">\n",
              "    <path d=\"M120-120v-720h720v720H120Zm60-500h600v-160H180v160Zm220 220h160v-160H400v160Zm0 220h160v-160H400v160ZM180-400h160v-160H180v160Zm440 0h160v-160H620v160ZM180-180h160v-160H180v160Zm440 0h160v-160H620v160Z\"/>\n",
              "  </svg>\n",
              "    </button>\n",
              "\n",
              "  <style>\n",
              "    .colab-df-container {\n",
              "      display:flex;\n",
              "      gap: 12px;\n",
              "    }\n",
              "\n",
              "    .colab-df-convert {\n",
              "      background-color: #E8F0FE;\n",
              "      border: none;\n",
              "      border-radius: 50%;\n",
              "      cursor: pointer;\n",
              "      display: none;\n",
              "      fill: #1967D2;\n",
              "      height: 32px;\n",
              "      padding: 0 0 0 0;\n",
              "      width: 32px;\n",
              "    }\n",
              "\n",
              "    .colab-df-convert:hover {\n",
              "      background-color: #E2EBFA;\n",
              "      box-shadow: 0px 1px 2px rgba(60, 64, 67, 0.3), 0px 1px 3px 1px rgba(60, 64, 67, 0.15);\n",
              "      fill: #174EA6;\n",
              "    }\n",
              "\n",
              "    .colab-df-buttons div {\n",
              "      margin-bottom: 4px;\n",
              "    }\n",
              "\n",
              "    [theme=dark] .colab-df-convert {\n",
              "      background-color: #3B4455;\n",
              "      fill: #D2E3FC;\n",
              "    }\n",
              "\n",
              "    [theme=dark] .colab-df-convert:hover {\n",
              "      background-color: #434B5C;\n",
              "      box-shadow: 0px 1px 3px 1px rgba(0, 0, 0, 0.15);\n",
              "      filter: drop-shadow(0px 1px 2px rgba(0, 0, 0, 0.3));\n",
              "      fill: #FFFFFF;\n",
              "    }\n",
              "  </style>\n",
              "\n",
              "    <script>\n",
              "      const buttonEl =\n",
              "        document.querySelector('#df-465b110b-bce3-4012-8c00-4365d9f02b7c button.colab-df-convert');\n",
              "      buttonEl.style.display =\n",
              "        google.colab.kernel.accessAllowed ? 'block' : 'none';\n",
              "\n",
              "      async function convertToInteractive(key) {\n",
              "        const element = document.querySelector('#df-465b110b-bce3-4012-8c00-4365d9f02b7c');\n",
              "        const dataTable =\n",
              "          await google.colab.kernel.invokeFunction('convertToInteractive',\n",
              "                                                    [key], {});\n",
              "        if (!dataTable) return;\n",
              "\n",
              "        const docLinkHtml = 'Like what you see? Visit the ' +\n",
              "          '<a target=\"_blank\" href=https://colab.research.google.com/notebooks/data_table.ipynb>data table notebook</a>'\n",
              "          + ' to learn more about interactive tables.';\n",
              "        element.innerHTML = '';\n",
              "        dataTable['output_type'] = 'display_data';\n",
              "        await google.colab.output.renderOutput(dataTable, element);\n",
              "        const docLink = document.createElement('div');\n",
              "        docLink.innerHTML = docLinkHtml;\n",
              "        element.appendChild(docLink);\n",
              "      }\n",
              "    </script>\n",
              "  </div>\n",
              "\n",
              "\n",
              "<div id=\"df-772e749e-e0ac-4851-a461-fcc481cf0535\">\n",
              "  <button class=\"colab-df-quickchart\" onclick=\"quickchart('df-772e749e-e0ac-4851-a461-fcc481cf0535')\"\n",
              "            title=\"Suggest charts.\"\n",
              "            style=\"display:none;\">\n",
              "\n",
              "<svg xmlns=\"http://www.w3.org/2000/svg\" height=\"24px\"viewBox=\"0 0 24 24\"\n",
              "     width=\"24px\">\n",
              "    <g>\n",
              "        <path d=\"M19 3H5c-1.1 0-2 .9-2 2v14c0 1.1.9 2 2 2h14c1.1 0 2-.9 2-2V5c0-1.1-.9-2-2-2zM9 17H7v-7h2v7zm4 0h-2V7h2v10zm4 0h-2v-4h2v4z\"/>\n",
              "    </g>\n",
              "</svg>\n",
              "  </button>\n",
              "\n",
              "<style>\n",
              "  .colab-df-quickchart {\n",
              "    background-color: #E8F0FE;\n",
              "    border: none;\n",
              "    border-radius: 50%;\n",
              "    cursor: pointer;\n",
              "    display: none;\n",
              "    fill: #1967D2;\n",
              "    height: 32px;\n",
              "    padding: 0 0 0 0;\n",
              "    width: 32px;\n",
              "  }\n",
              "\n",
              "  .colab-df-quickchart:hover {\n",
              "    background-color: #E2EBFA;\n",
              "    box-shadow: 0px 1px 2px rgba(60, 64, 67, 0.3), 0px 1px 3px 1px rgba(60, 64, 67, 0.15);\n",
              "    fill: #174EA6;\n",
              "  }\n",
              "\n",
              "  [theme=dark] .colab-df-quickchart {\n",
              "    background-color: #3B4455;\n",
              "    fill: #D2E3FC;\n",
              "  }\n",
              "\n",
              "  [theme=dark] .colab-df-quickchart:hover {\n",
              "    background-color: #434B5C;\n",
              "    box-shadow: 0px 1px 3px 1px rgba(0, 0, 0, 0.15);\n",
              "    filter: drop-shadow(0px 1px 2px rgba(0, 0, 0, 0.3));\n",
              "    fill: #FFFFFF;\n",
              "  }\n",
              "</style>\n",
              "\n",
              "  <script>\n",
              "    async function quickchart(key) {\n",
              "      const charts = await google.colab.kernel.invokeFunction(\n",
              "          'suggestCharts', [key], {});\n",
              "    }\n",
              "    (() => {\n",
              "      let quickchartButtonEl =\n",
              "        document.querySelector('#df-772e749e-e0ac-4851-a461-fcc481cf0535 button');\n",
              "      quickchartButtonEl.style.display =\n",
              "        google.colab.kernel.accessAllowed ? 'block' : 'none';\n",
              "    })();\n",
              "  </script>\n",
              "</div>\n",
              "    </div>\n",
              "  </div>\n"
            ]
          },
          "metadata": {},
          "execution_count": 5
        }
      ],
      "source": [
        "## escribe aqui el código\n",
        "\n",
        "ventas['Ganancias']=ventas['Ventas']-ventas['Gasto']\n",
        "ventas\n"
      ]
    },
    {
      "cell_type": "markdown",
      "id": "cf16e2ac-d08c-4a9a-96a6-a2fbecd794e3",
      "metadata": {
        "id": "cf16e2ac-d08c-4a9a-96a6-a2fbecd794e3"
      },
      "source": [
        "4. Encuentra el mes-año con las ganancias más altas"
      ]
    },
    {
      "cell_type": "code",
      "execution_count": 6,
      "id": "0506853b-39e8-4a98-9607-7fe9e3fa4471",
      "metadata": {
        "colab": {
          "base_uri": "https://localhost:8080/"
        },
        "id": "0506853b-39e8-4a98-9607-7fe9e3fa4471",
        "outputId": "49f7cc85-9bc6-4790-92f9-b1c4f66fe340"
      },
      "outputs": [
        {
          "output_type": "execute_result",
          "data": {
            "text/plain": [
              "Año   Mes       \n",
              "2010  Abril         558\n",
              "      Agosto        415\n",
              "      Diciembre     439\n",
              "      Enero         523\n",
              "      Febrero       414\n",
              "                   ... \n",
              "2023  Marzo         109\n",
              "      Mayo         -101\n",
              "      Noviembre     450\n",
              "      Octubre       353\n",
              "      Septiembre    -28\n",
              "Name: Ganancias, Length: 168, dtype: int64"
            ]
          },
          "metadata": {},
          "execution_count": 6
        }
      ],
      "source": [
        "## escribe aqui el código\n",
        "\n",
        "ventas.groupby(['Año','Mes'])['Ganancias'].agg('max').round(1)\n"
      ]
    },
    {
      "cell_type": "markdown",
      "id": "9914fb6f-89f2-47e3-a1b2-a3a31388dd53",
      "metadata": {
        "id": "9914fb6f-89f2-47e3-a1b2-a3a31388dd53"
      },
      "source": [
        "5. Calcula e imprime las ventas totales, gastos totales y ganancias totales de  todo el periodo\\\n",
        "Ejemplo de mensaje: **las ventas totales son: 5000**, etc"
      ]
    },
    {
      "cell_type": "code",
      "execution_count": 8,
      "id": "d538d912-e521-4878-aadf-7288917df0a9",
      "metadata": {
        "colab": {
          "base_uri": "https://localhost:8080/"
        },
        "id": "d538d912-e521-4878-aadf-7288917df0a9",
        "outputId": "ee905b9c-9760-4438-fc33-bb9276d59299"
      },
      "outputs": [
        {
          "output_type": "stream",
          "name": "stdout",
          "text": [
            "Las ventas totales con: 235731\n",
            "Lss gastos totales con: 181123\n",
            "Las ganancias totales con: 54608\n"
          ]
        }
      ],
      "source": [
        "## escribe aqui el código\n",
        "\n",
        "ventas_tot= ventas['Ventas'].sum()\n",
        "gastos_tot= ventas['Gasto'].sum()\n",
        "ganancias_tot= ventas['Ganancias'].sum()\n",
        "\n",
        "print('Las ventas totales con:',ventas_tot)\n",
        "print('Lss gastos totales con:',gastos_tot)\n",
        "print('Las ganancias totales con:',ganancias_tot)\n"
      ]
    },
    {
      "cell_type": "markdown",
      "id": "38dae978-dc9f-4e6c-9902-98437bb6aa54",
      "metadata": {
        "id": "38dae978-dc9f-4e6c-9902-98437bb6aa54"
      },
      "source": [
        "6. Calcula y muestra las ventas, gastos y ganancias para cada año\n"
      ]
    },
    {
      "cell_type": "code",
      "execution_count": null,
      "id": "a6a89162-0e44-428c-bbdf-2fbef86eafb6",
      "metadata": {
        "colab": {
          "base_uri": "https://localhost:8080/"
        },
        "id": "a6a89162-0e44-428c-bbdf-2fbef86eafb6",
        "outputId": "dbfa4b53-86a0-405d-d546-ec8c7c491f38"
      },
      "outputs": [
        {
          "output_type": "execute_result",
          "data": {
            "text/plain": [
              "Año\n",
              "2010    12015\n",
              "2011    12778\n",
              "2012    12965\n",
              "2013    14037\n",
              "2014    14922\n",
              "2015    14951\n",
              "2016    15376\n",
              "2017    17189\n",
              "2018    18325\n",
              "2019    18204\n",
              "2020    18917\n",
              "2021    21057\n",
              "2022    21692\n",
              "2023    23303\n",
              "Name: Ventas, dtype: int64"
            ]
          },
          "metadata": {},
          "execution_count": 109
        }
      ],
      "source": [
        "## escribe aqui el código\n",
        "ventas.groupby('Año')['Ventas'].agg('sum')"
      ]
    },
    {
      "cell_type": "markdown",
      "id": "caffc594-8756-4b20-9f24-49e460ca7797",
      "metadata": {
        "id": "caffc594-8756-4b20-9f24-49e460ca7797"
      },
      "source": [
        "7. Calcula y muestra las ventas promedio mensuales del año 2015"
      ]
    },
    {
      "cell_type": "code",
      "execution_count": 9,
      "id": "6beb888c-8b82-4755-9184-2487451436d9",
      "metadata": {
        "id": "6beb888c-8b82-4755-9184-2487451436d9",
        "colab": {
          "base_uri": "https://localhost:8080/"
        },
        "outputId": "bcc01368-a7d3-4f13-edaf-292e921045d9"
      },
      "outputs": [
        {
          "output_type": "execute_result",
          "data": {
            "text/plain": [
              "1245.9166666666667"
            ]
          },
          "metadata": {},
          "execution_count": 9
        }
      ],
      "source": [
        "\n",
        "## escribe aqui el código\n",
        "##Pista: primero filtra para el año 2015, luego selecciona la columna ventas\n",
        "\n",
        "ventas.query('Año==2015')['Ventas'].mean()\n"
      ]
    },
    {
      "cell_type": "markdown",
      "id": "5a7f7347-3def-4fd7-a14a-4ee98b327da6",
      "metadata": {
        "id": "5a7f7347-3def-4fd7-a14a-4ee98b327da6"
      },
      "source": [
        "8. Calcula e imprime las ventas totales y ventas promedio para los eneros. Es decir, para enero de 2010, enero de 2011, enero 2012, etc"
      ]
    },
    {
      "cell_type": "code",
      "execution_count": 12,
      "id": "03387695-22af-481c-93e4-c0493df7a9a5",
      "metadata": {
        "id": "03387695-22af-481c-93e4-c0493df7a9a5",
        "colab": {
          "base_uri": "https://localhost:8080/"
        },
        "outputId": "768baa45-9458-4636-a30a-3b7ea79e8c7a"
      },
      "outputs": [
        {
          "output_type": "stream",
          "name": "stdout",
          "text": [
            "Las ventas totales para los eneros son 20073\n"
          ]
        }
      ],
      "source": [
        "## escribe aqui el código ventas totales\n",
        "##Pista: primero filtra los meses de enero, luego selecciona la columna ventas\n",
        "\n",
        "enero_ventas= ventas.query('Mes==\"Enero\"')['Ventas'].sum()\n",
        "print('Las ventas totales para los eneros son',enero_ventas)\n",
        "\n"
      ]
    },
    {
      "cell_type": "code",
      "execution_count": 13,
      "id": "dd6aad47",
      "metadata": {
        "id": "dd6aad47",
        "colab": {
          "base_uri": "https://localhost:8080/"
        },
        "outputId": "4ccf8f12-0bc6-4ca5-bd00-e4311f0a297e"
      },
      "outputs": [
        {
          "output_type": "stream",
          "name": "stdout",
          "text": [
            "Las ventas totales para los eneros son 1433.7857142857142\n"
          ]
        }
      ],
      "source": [
        "## escribe aqui el código ventas promedio\n",
        "\n",
        "enero_prom= ventas.query('Mes==\"Enero\"')['Ventas'].mean()\n",
        "print('Las ventas totales para los eneros son',enero_prom)"
      ]
    },
    {
      "cell_type": "markdown",
      "id": "f462b2c6-3d85-4c51-8958-d48716cdddd2",
      "metadata": {
        "id": "f462b2c6-3d85-4c51-8958-d48716cdddd2"
      },
      "source": [
        "9. Calcula las ventas promedio por mes, y muestra los meses ordenados de menor a mayor según su promedio"
      ]
    },
    {
      "cell_type": "code",
      "execution_count": null,
      "id": "9befa656-d898-49f8-b00c-f93485d05560",
      "metadata": {
        "colab": {
          "base_uri": "https://localhost:8080/"
        },
        "id": "9befa656-d898-49f8-b00c-f93485d05560",
        "outputId": "d81e64b3-cdc6-4819-a37b-572434c69768"
      },
      "outputs": [
        {
          "output_type": "execute_result",
          "data": {
            "text/plain": [
              "Mes\n",
              "Abril         1457.50\n",
              "Agosto        1437.86\n",
              "Diciembre     1416.64\n",
              "Enero         1433.79\n",
              "Febrero       1406.36\n",
              "Julio         1363.64\n",
              "Junio         1325.71\n",
              "Marzo         1394.43\n",
              "Mayo          1409.71\n",
              "Noviembre     1456.64\n",
              "Octubre       1388.29\n",
              "Septiembre    1347.36\n",
              "Name: Ventas, dtype: float64"
            ]
          },
          "metadata": {},
          "execution_count": 74
        }
      ],
      "source": [
        "## aqui va tu codigo\n",
        "\n",
        "ventas.groupby('Mes')['Ventas'].agg('mean').round(2)\n"
      ]
    }
  ],
  "metadata": {
    "kernelspec": {
      "display_name": "Python 3 (ipykernel)",
      "language": "python",
      "name": "python3"
    },
    "language_info": {
      "codemirror_mode": {
        "name": "ipython",
        "version": 3
      },
      "file_extension": ".py",
      "mimetype": "text/x-python",
      "name": "python",
      "nbconvert_exporter": "python",
      "pygments_lexer": "ipython3",
      "version": "3.11.4"
    },
    "colab": {
      "provenance": [],
      "include_colab_link": true
    }
  },
  "nbformat": 4,
  "nbformat_minor": 5
}