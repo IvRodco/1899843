{
  "nbformat": 4,
  "nbformat_minor": 0,
  "metadata": {
    "colab": {
      "provenance": [],
      "toc_visible": true,
      "authorship_tag": "ABX9TyMGtX1G98yA8gloD0tMlTt7",
      "include_colab_link": true
    },
    "kernelspec": {
      "name": "python3",
      "display_name": "Python 3"
    },
    "language_info": {
      "name": "python"
    }
  },
  "cells": [
    {
      "cell_type": "markdown",
      "metadata": {
        "id": "view-in-github",
        "colab_type": "text"
      },
      "source": [
        "<a href=\"https://colab.research.google.com/github/IvRodco/EstadisticaAplicasa_1899843/blob/main/Clase1EA.ipynb\" target=\"_parent\"><img src=\"https://colab.research.google.com/assets/colab-badge.svg\" alt=\"Open In Colab\"/></a>"
      ]
    },
    {
      "cell_type": "markdown",
      "source": [
        "##Titulo\n",
        "###Subtitulo\n",
        "####subsubtitulo\n",
        "\n",
        "*italicas*\n",
        "\n",
        "\"negritas\"\n",
        "\n",
        "$y_i=a+b*x_i$\n",
        "\n"
      ],
      "metadata": {
        "id": "Qw1uCsixIWlH"
      }
    },
    {
      "cell_type": "code",
      "execution_count": 4,
      "metadata": {
        "colab": {
          "base_uri": "https://localhost:8080/"
        },
        "id": "-N_pd-gMABjc",
        "outputId": "906cb205-243a-4215-a362-6f027cfd1178"
      },
      "outputs": [
        {
          "output_type": "stream",
          "name": "stdout",
          "text": [
            "6\n"
          ]
        },
        {
          "output_type": "execute_result",
          "data": {
            "text/plain": [
              "int"
            ]
          },
          "metadata": {},
          "execution_count": 4
        }
      ],
      "source": [
        "#crear variable entero\n",
        "\n",
        "variable1=6\n",
        "variable1\n",
        "\n",
        "print(variable1)\n",
        "\n",
        "#verificar que sea entero\n",
        "type(variable1)"
      ]
    },
    {
      "cell_type": "code",
      "source": [
        "#crear variable decimal\n",
        "\n",
        "variable2 = 7.89\n",
        "\n",
        "#verificar que es float\n",
        "type(variable2)"
      ],
      "metadata": {
        "colab": {
          "base_uri": "https://localhost:8080/"
        },
        "id": "x0RwOQR0IUrF",
        "outputId": "cb93a19f-f268-42a5-f272-3631506ec329"
      },
      "execution_count": 7,
      "outputs": [
        {
          "output_type": "execute_result",
          "data": {
            "text/plain": [
              "float"
            ]
          },
          "metadata": {},
          "execution_count": 7
        }
      ]
    },
    {
      "cell_type": "code",
      "source": [
        "#variable de texto\n",
        "\n",
        "mi_inicial= 'i'\n",
        "\n",
        "#verificar que es string\n",
        "type(mi_inicial)"
      ],
      "metadata": {
        "colab": {
          "base_uri": "https://localhost:8080/"
        },
        "id": "Xz1AbLLeJ96g",
        "outputId": "6824a566-74e2-497a-82f5-d3de51be408a"
      },
      "execution_count": 9,
      "outputs": [
        {
          "output_type": "execute_result",
          "data": {
            "text/plain": [
              "str"
            ]
          },
          "metadata": {},
          "execution_count": 9
        }
      ]
    },
    {
      "cell_type": "code",
      "source": [
        "print(mi_inicial)"
      ],
      "metadata": {
        "colab": {
          "base_uri": "https://localhost:8080/"
        },
        "id": "HTllaZwzKRB2",
        "outputId": "c5b36eb0-2d56-4607-e980-c9bcac00fe5b"
      },
      "execution_count": 10,
      "outputs": [
        {
          "output_type": "stream",
          "name": "stdout",
          "text": [
            "i\n"
          ]
        }
      ]
    },
    {
      "cell_type": "code",
      "source": [
        "print(variable1,variable2)"
      ],
      "metadata": {
        "colab": {
          "base_uri": "https://localhost:8080/"
        },
        "id": "-svbf-3VKbWz",
        "outputId": "b9718f85-a279-43b1-9c32-35e6fd51aca7"
      },
      "execution_count": 11,
      "outputs": [
        {
          "output_type": "stream",
          "name": "stdout",
          "text": [
            "6 7.89\n"
          ]
        }
      ]
    },
    {
      "cell_type": "code",
      "source": [
        "print('la letra inicial de mi nombre es:', mi_inicial)"
      ],
      "metadata": {
        "colab": {
          "base_uri": "https://localhost:8080/"
        },
        "id": "1l2ynMyRKgv7",
        "outputId": "bd731545-a51b-4b48-c86a-7c040d8eb967"
      },
      "execution_count": 12,
      "outputs": [
        {
          "output_type": "stream",
          "name": "stdout",
          "text": [
            "la letra inicial de mi nombre es: i\n"
          ]
        }
      ]
    },
    {
      "cell_type": "code",
      "source": [
        "#crear un boleano\n",
        "boleano1=True\n",
        "\n",
        "#verificar que es boleano\n",
        "type(boleano1)"
      ],
      "metadata": {
        "colab": {
          "base_uri": "https://localhost:8080/"
        },
        "id": "_qTy-W8rKsAw",
        "outputId": "2ffc2497-0ed4-473a-f8b1-df179e515890"
      },
      "execution_count": 14,
      "outputs": [
        {
          "output_type": "execute_result",
          "data": {
            "text/plain": [
              "bool"
            ]
          },
          "metadata": {},
          "execution_count": 14
        }
      ]
    },
    {
      "cell_type": "code",
      "source": [
        "7>5"
      ],
      "metadata": {
        "colab": {
          "base_uri": "https://localhost:8080/"
        },
        "id": "5sTqpDK5LAj7",
        "outputId": "bcbcb2a8-0287-4d79-8e3e-3c5cdadc0c41"
      },
      "execution_count": 15,
      "outputs": [
        {
          "output_type": "execute_result",
          "data": {
            "text/plain": [
              "True"
            ]
          },
          "metadata": {},
          "execution_count": 15
        }
      ]
    },
    {
      "cell_type": "code",
      "source": [
        "5>7"
      ],
      "metadata": {
        "colab": {
          "base_uri": "https://localhost:8080/"
        },
        "id": "LHGarza8LCoD",
        "outputId": "bd7d3f28-0af5-4d81-9fc6-aeecbd2390b1"
      },
      "execution_count": 16,
      "outputs": [
        {
          "output_type": "execute_result",
          "data": {
            "text/plain": [
              "False"
            ]
          },
          "metadata": {},
          "execution_count": 16
        }
      ]
    },
    {
      "cell_type": "code",
      "source": [
        "7>5 & 7>2"
      ],
      "metadata": {
        "colab": {
          "base_uri": "https://localhost:8080/"
        },
        "id": "l5wr5kb7LER6",
        "outputId": "19e4b133-4a33-4167-c212-5390925f1a15"
      },
      "execution_count": 17,
      "outputs": [
        {
          "output_type": "execute_result",
          "data": {
            "text/plain": [
              "True"
            ]
          },
          "metadata": {},
          "execution_count": 17
        }
      ]
    },
    {
      "cell_type": "code",
      "source": [
        "7>5 & 7<2"
      ],
      "metadata": {
        "colab": {
          "base_uri": "https://localhost:8080/"
        },
        "id": "Kz_WRw6mLKaB",
        "outputId": "fb0048c9-d509-4e1d-e7b3-2d139606afe5"
      },
      "execution_count": 18,
      "outputs": [
        {
          "output_type": "execute_result",
          "data": {
            "text/plain": [
              "False"
            ]
          },
          "metadata": {},
          "execution_count": 18
        }
      ]
    },
    {
      "cell_type": "code",
      "source": [
        "variable1_decimal=float(variable1)\n",
        "\n",
        "variable1_decimal"
      ],
      "metadata": {
        "colab": {
          "base_uri": "https://localhost:8080/"
        },
        "id": "R9k7cwoILOPP",
        "outputId": "ae0d44ae-0741-4b9d-c048-e298a4db9765"
      },
      "execution_count": 20,
      "outputs": [
        {
          "output_type": "execute_result",
          "data": {
            "text/plain": [
              "6.0"
            ]
          },
          "metadata": {},
          "execution_count": 20
        }
      ]
    }
  ]
}