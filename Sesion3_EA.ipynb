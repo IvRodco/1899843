{
  "nbformat": 4,
  "nbformat_minor": 0,
  "metadata": {
    "colab": {
      "provenance": [],
      "authorship_tag": "ABX9TyNTarCG2IOYbSggB1X6hj4y",
      "include_colab_link": true
    },
    "kernelspec": {
      "name": "python3",
      "display_name": "Python 3"
    },
    "language_info": {
      "name": "python"
    }
  },
  "cells": [
    {
      "cell_type": "markdown",
      "metadata": {
        "id": "view-in-github",
        "colab_type": "text"
      },
      "source": [
        "<a href=\"https://colab.research.google.com/github/IvRodco/EstadisticaAplicasa_1899843/blob/main/Sesion3_EA.ipynb\" target=\"_parent\"><img src=\"https://colab.research.google.com/assets/colab-badge.svg\" alt=\"Open In Colab\"/></a>"
      ]
    },
    {
      "cell_type": "markdown",
      "source": [
        "##Estadistica aplicada\n",
        "\n",
        "###Sesion 3, 10 de agosto\n",
        "\n",
        "####Ivanna Lizeth Rodriguez Ambriz 1899843\n"
      ],
      "metadata": {
        "id": "mzHdEVnYFN3K"
      }
    },
    {
      "cell_type": "markdown",
      "source": [
        "\n",
        "Numpy (Numerical python) ayuda a manejar numeros en python (vectores,matrices, decimales)\n",
        "\n",
        "La estructura basica de numpy son los arreglos(arrays), un arreglo es una coleccion de objetos del mismo tipo\n"
      ],
      "metadata": {
        "id": "h1GIIN9jF1fk"
      }
    },
    {
      "cell_type": "markdown",
      "source": [
        "Vamos a suponer que tenemos las deltas de botellas de agua de la cafeteria de la facu"
      ],
      "metadata": {
        "id": "VlMTUJddIIfB"
      }
    },
    {
      "cell_type": "markdown",
      "source": [
        "Suponemos que:\n",
        "El lunes de vendieron 23 botellas de agua,\n",
        "el martes 45,\n",
        "el miercoles 34,\n",
        "el jueves 28\n",
        "y el viernes 20 botellas de agua,"
      ],
      "metadata": {
        "id": "PNYrjAuFGEhi"
      }
    },
    {
      "cell_type": "code",
      "source": [
        "import numpy as np"
      ],
      "metadata": {
        "id": "knqPsydwGR1E"
      },
      "execution_count": 1,
      "outputs": []
    },
    {
      "cell_type": "code",
      "source": [
        "ventas =[23,45,34,28,20]\n",
        "\n",
        "type(ventas)"
      ],
      "metadata": {
        "colab": {
          "base_uri": "https://localhost:8080/"
        },
        "id": "on7T8ePeGep-",
        "outputId": "6c11c307-7263-4c42-8d49-39fe8791d83b"
      },
      "execution_count": 3,
      "outputs": [
        {
          "output_type": "execute_result",
          "data": {
            "text/plain": [
              "list"
            ]
          },
          "metadata": {},
          "execution_count": 3
        }
      ]
    },
    {
      "cell_type": "code",
      "source": [
        "ventas= np.array(ventas)\n",
        "\n",
        "type(ventas)"
      ],
      "metadata": {
        "colab": {
          "base_uri": "https://localhost:8080/"
        },
        "id": "_Kq9t8E_G7TD",
        "outputId": "849c1b39-bca8-4480-cf84-4971abefcb1c"
      },
      "execution_count": 7,
      "outputs": [
        {
          "output_type": "execute_result",
          "data": {
            "text/plain": [
              "numpy.ndarray"
            ]
          },
          "metadata": {},
          "execution_count": 7
        }
      ]
    },
    {
      "cell_type": "code",
      "source": [
        "#suma los elementos del arreglo\n",
        "\n",
        "np.sum(ventas)"
      ],
      "metadata": {
        "colab": {
          "base_uri": "https://localhost:8080/"
        },
        "id": "rjr-oDQ1HCyO",
        "outputId": "dc344a16-6c01-428a-c568-b6bdfe6f3daa"
      },
      "execution_count": 8,
      "outputs": [
        {
          "output_type": "execute_result",
          "data": {
            "text/plain": [
              "150"
            ]
          },
          "metadata": {},
          "execution_count": 8
        }
      ]
    },
    {
      "cell_type": "code",
      "source": [
        "#multiplicacion de los elementos del arreglo\n",
        "np.prod(ventas)"
      ],
      "metadata": {
        "colab": {
          "base_uri": "https://localhost:8080/"
        },
        "id": "tYm-W8wsHfJW",
        "outputId": "41921b40-6d5f-4d19-cbdf-6ed5ae65a0f7"
      },
      "execution_count": 9,
      "outputs": [
        {
          "output_type": "execute_result",
          "data": {
            "text/plain": [
              "19706400"
            ]
          },
          "metadata": {},
          "execution_count": 9
        }
      ]
    },
    {
      "cell_type": "code",
      "source": [
        "#promedio de los elementos del arreglo\n",
        "np.mean(ventas)"
      ],
      "metadata": {
        "colab": {
          "base_uri": "https://localhost:8080/"
        },
        "id": "YSTmtLD-HmXx",
        "outputId": "1c018a56-7b26-45c1-b510-800d38206ea2"
      },
      "execution_count": 10,
      "outputs": [
        {
          "output_type": "execute_result",
          "data": {
            "text/plain": [
              "30.0"
            ]
          },
          "metadata": {},
          "execution_count": 10
        }
      ]
    },
    {
      "cell_type": "code",
      "source": [
        "#valor maximo de los elementos del arreglo\n",
        "np.max(ventas)"
      ],
      "metadata": {
        "colab": {
          "base_uri": "https://localhost:8080/"
        },
        "id": "uqcZ3e6SH4F8",
        "outputId": "6b782645-2d91-492e-c153-a1294cf4ca58"
      },
      "execution_count": 11,
      "outputs": [
        {
          "output_type": "execute_result",
          "data": {
            "text/plain": [
              "45"
            ]
          },
          "metadata": {},
          "execution_count": 11
        }
      ]
    },
    {
      "cell_type": "code",
      "source": [
        "#valor minimo de los elementos de un arreglo\n",
        "np.min(ventas)"
      ],
      "metadata": {
        "colab": {
          "base_uri": "https://localhost:8080/"
        },
        "id": "XcUnZS-sH-M1",
        "outputId": "4be36bd8-26bc-407a-c7d9-0297df6468b3"
      },
      "execution_count": 12,
      "outputs": [
        {
          "output_type": "execute_result",
          "data": {
            "text/plain": [
              "20"
            ]
          },
          "metadata": {},
          "execution_count": 12
        }
      ]
    },
    {
      "cell_type": "code",
      "source": [
        "#ordena el arreglo de menor a mayor\n",
        "np.sort(ventas)"
      ],
      "metadata": {
        "colab": {
          "base_uri": "https://localhost:8080/"
        },
        "id": "r2qOwujHIGpO",
        "outputId": "767f7ece-25b3-4b26-dd38-1800c9dfd47f"
      },
      "execution_count": 13,
      "outputs": [
        {
          "output_type": "execute_result",
          "data": {
            "text/plain": [
              "array([20, 23, 28, 34, 45])"
            ]
          },
          "metadata": {},
          "execution_count": 13
        }
      ]
    },
    {
      "cell_type": "code",
      "source": [
        "#varianza de los elementos del arreglo\n",
        "np.var(ventas)\n",
        "#esta es la varianza poblacional\n",
        "#ya que python si no espeficificas el ddof lo toma como cero"
      ],
      "metadata": {
        "colab": {
          "base_uri": "https://localhost:8080/"
        },
        "id": "_5SkiY0qIR_z",
        "outputId": "c9fa50a0-b81c-4bcc-bae9-f014d888f5ec"
      },
      "execution_count": 14,
      "outputs": [
        {
          "output_type": "execute_result",
          "data": {
            "text/plain": [
              "78.8"
            ]
          },
          "metadata": {},
          "execution_count": 14
        }
      ]
    },
    {
      "cell_type": "code",
      "source": [
        "#desviacion estandar de el arreglo\n",
        "np.std(ventas)\n",
        "#esta es la desviacion estandar poblacional"
      ],
      "metadata": {
        "colab": {
          "base_uri": "https://localhost:8080/"
        },
        "id": "7FEEDr2AIZ1F",
        "outputId": "09ce55f5-af76-4969-ab9a-a04b845d574b"
      },
      "execution_count": 15,
      "outputs": [
        {
          "output_type": "execute_result",
          "data": {
            "text/plain": [
              "8.87693640846886"
            ]
          },
          "metadata": {},
          "execution_count": 15
        }
      ]
    },
    {
      "cell_type": "code",
      "source": [
        "#para la varianza muestral\n",
        "np.var(ventas,ddof=1)"
      ],
      "metadata": {
        "colab": {
          "base_uri": "https://localhost:8080/"
        },
        "id": "vRFCr7h6I9Sl",
        "outputId": "89431ff1-85a9-4d05-92e5-301eee06f41d"
      },
      "execution_count": 16,
      "outputs": [
        {
          "output_type": "execute_result",
          "data": {
            "text/plain": [
              "98.5"
            ]
          },
          "metadata": {},
          "execution_count": 16
        }
      ]
    },
    {
      "cell_type": "code",
      "source": [
        "#para la desviasion estandar muestral\n",
        "np.std(ventas,ddof=1)"
      ],
      "metadata": {
        "colab": {
          "base_uri": "https://localhost:8080/"
        },
        "id": "680gbXtIJFym",
        "outputId": "e70b1ce5-9430-41de-d7e0-f07b2e4d5165"
      },
      "execution_count": 17,
      "outputs": [
        {
          "output_type": "execute_result",
          "data": {
            "text/plain": [
              "9.924716620639604"
            ]
          },
          "metadata": {},
          "execution_count": 17
        }
      ]
    },
    {
      "cell_type": "code",
      "source": [
        "#crear un vector\n",
        "\n",
        "np.arange(9)"
      ],
      "metadata": {
        "colab": {
          "base_uri": "https://localhost:8080/"
        },
        "id": "4zzDjGC-JW0m",
        "outputId": "4976f588-a25b-4511-cd65-aa7a166fdfc5"
      },
      "execution_count": 19,
      "outputs": [
        {
          "output_type": "execute_result",
          "data": {
            "text/plain": [
              "array([0, 1, 2, 3, 4, 5, 6, 7, 8])"
            ]
          },
          "metadata": {},
          "execution_count": 19
        }
      ]
    },
    {
      "cell_type": "code",
      "source": [
        "#especifica al vector de que a que numeros tomar\n",
        "np.arange(10,20)"
      ],
      "metadata": {
        "colab": {
          "base_uri": "https://localhost:8080/"
        },
        "id": "17_rfXdIJoYi",
        "outputId": "0571534d-f28d-46de-db3c-20e041f8df93"
      },
      "execution_count": 20,
      "outputs": [
        {
          "output_type": "execute_result",
          "data": {
            "text/plain": [
              "array([10, 11, 12, 13, 14, 15, 16, 17, 18, 19])"
            ]
          },
          "metadata": {},
          "execution_count": 20
        }
      ]
    },
    {
      "cell_type": "code",
      "source": [
        "#especifica al vector de cuanto en cuanto y hasta donde\n",
        "np.arange(1,100,15)\n",
        "#en este caso va a contar de 15 en 15 de los numeros del 1 hasta el 100"
      ],
      "metadata": {
        "colab": {
          "base_uri": "https://localhost:8080/"
        },
        "id": "1dM2WMDHJvdV",
        "outputId": "da39fa6e-9a83-4aa5-b1fc-81fd1320046a"
      },
      "execution_count": 21,
      "outputs": [
        {
          "output_type": "execute_result",
          "data": {
            "text/plain": [
              "array([ 1, 16, 31, 46, 61, 76, 91])"
            ]
          },
          "metadata": {},
          "execution_count": 21
        }
      ]
    },
    {
      "cell_type": "code",
      "source": [
        "#crea un arreglo de 10 con numeros aleatorios que van del 0 al 25\n",
        "\n",
        "#fijamos la semilla para que siempre nos genere los mismos numeros aleatorios\n",
        "\n",
        "np.random.seed(12)\n",
        "np.random.randint(0,25,10)\n",
        "\n",
        "#genera numeros aleatorios de una distribucion uniforma"
      ],
      "metadata": {
        "colab": {
          "base_uri": "https://localhost:8080/"
        },
        "id": "wIqMK3fkJ8I7",
        "outputId": "a6fa969f-df39-4e3a-b249-eed603be98e7"
      },
      "execution_count": 24,
      "outputs": [
        {
          "output_type": "execute_result",
          "data": {
            "text/plain": [
              "array([11,  6, 17,  2,  3,  3, 12, 16, 22, 17])"
            ]
          },
          "metadata": {},
          "execution_count": 24
        }
      ]
    }
  ]
}